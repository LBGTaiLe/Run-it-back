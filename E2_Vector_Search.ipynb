{
 "cells": [
  {
   "cell_type": "markdown",
   "id": "9dcb1bde-3ac1-42ba-ad90-bc93df01c0f8",
   "metadata": {},
   "source": [
    "# Embeddings - Vertex AI Vector Search\n",
    "\n",
    "### Semantic Search Using Embeddings and Vertex AI Vector Search (Formerly Matching Engine)\n",
    "\n",
    "- Semantic search is a type of search that uses the meaning of words and phrases to find relevant results.\n",
    "- In this tutorial, we will demonstrate how to do semantic search with embeddings generated from the news text using vector search`\n",
    "- Vertex AI Vector Search (formerly known as Matching Engine) is a vector database, which can find the most similar vectors from over a billion vectors. Matching Engine's ANN service can serve similarity-matching queries at high queries per second (QPS).\n",
    "\n",
    "This pattern is more appropriate for larger datasets and production deployments. For demonstrating the full workflow and explanation, a small dataset is pre-processed locally and uploaded to a storage bucket in this example. In a larger or production deployment, the embedding generation and storage can be done separately and Vector Search provides db update strategies as described later in this notebook."
   ]
  },
  {
   "cell_type": "markdown",
   "id": "fc3920ce-2421-4026-a142-db29cd968b83",
   "metadata": {},
   "source": [
    "## Install Vertex LLM SDK\n",
    "\n",
    "Install required libraries and initialises the Vertex AI SDK"
   ]
  },
  {
   "cell_type": "code",
   "execution_count": 4,
   "id": "484703ed-180e-4dfa-a59a-6845b36c809b",
   "metadata": {},
   "outputs": [
    {
     "name": "stdout",
     "output_type": "stream",
     "text": [
      "Requirement already satisfied: google-cloud-aiplatform>=1.25 in /opt/conda/lib/python3.7/site-packages (1.33.1)\n",
      "Requirement already satisfied: shapely<2.0.0 in /opt/conda/lib/python3.7/site-packages (1.8.5.post1)\n",
      "Requirement already satisfied: google-api-core[grpc]!=2.0.*,!=2.1.*,!=2.2.*,!=2.3.*,!=2.4.*,!=2.5.*,!=2.6.*,!=2.7.*,<3.0.0dev,>=1.32.0 in /opt/conda/lib/python3.7/site-packages (from google-cloud-aiplatform>=1.25) (1.34.0)\n",
      "Requirement already satisfied: proto-plus<2.0.0dev,>=1.22.0 in /opt/conda/lib/python3.7/site-packages (from google-cloud-aiplatform>=1.25) (1.22.3)\n",
      "Requirement already satisfied: protobuf!=3.20.0,!=3.20.1,!=4.21.0,!=4.21.1,!=4.21.2,!=4.21.3,!=4.21.4,!=4.21.5,<5.0.0dev,>=3.19.5 in /opt/conda/lib/python3.7/site-packages (from google-cloud-aiplatform>=1.25) (3.19.6)\n",
      "Requirement already satisfied: packaging>=14.3 in /opt/conda/lib/python3.7/site-packages (from google-cloud-aiplatform>=1.25) (23.1)\n",
      "Requirement already satisfied: google-cloud-storage<3.0.0dev,>=1.32.0 in /opt/conda/lib/python3.7/site-packages (from google-cloud-aiplatform>=1.25) (2.11.0)\n",
      "Requirement already satisfied: google-cloud-bigquery<4.0.0dev,>=1.15.0 in /opt/conda/lib/python3.7/site-packages (from google-cloud-aiplatform>=1.25) (3.11.4)\n",
      "Requirement already satisfied: google-cloud-resource-manager<3.0.0dev,>=1.3.3 in /opt/conda/lib/python3.7/site-packages (from google-cloud-aiplatform>=1.25) (1.10.4)\n",
      "Requirement already satisfied: googleapis-common-protos<2.0dev,>=1.56.2 in /opt/conda/lib/python3.7/site-packages (from google-api-core[grpc]!=2.0.*,!=2.1.*,!=2.2.*,!=2.3.*,!=2.4.*,!=2.5.*,!=2.6.*,!=2.7.*,<3.0.0dev,>=1.32.0->google-cloud-aiplatform>=1.25) (1.56.4)\n",
      "Requirement already satisfied: google-auth<3.0dev,>=1.25.0 in /opt/conda/lib/python3.7/site-packages (from google-api-core[grpc]!=2.0.*,!=2.1.*,!=2.2.*,!=2.3.*,!=2.4.*,!=2.5.*,!=2.6.*,!=2.7.*,<3.0.0dev,>=1.32.0->google-cloud-aiplatform>=1.25) (2.23.0)\n",
      "Requirement already satisfied: requests<3.0.0dev,>=2.18.0 in /opt/conda/lib/python3.7/site-packages (from google-api-core[grpc]!=2.0.*,!=2.1.*,!=2.2.*,!=2.3.*,!=2.4.*,!=2.5.*,!=2.6.*,!=2.7.*,<3.0.0dev,>=1.32.0->google-cloud-aiplatform>=1.25) (2.31.0)\n",
      "Requirement already satisfied: grpcio<2.0dev,>=1.33.2 in /opt/conda/lib/python3.7/site-packages (from google-api-core[grpc]!=2.0.*,!=2.1.*,!=2.2.*,!=2.3.*,!=2.4.*,!=2.5.*,!=2.6.*,!=2.7.*,<3.0.0dev,>=1.32.0->google-cloud-aiplatform>=1.25) (1.48.1)\n",
      "Requirement already satisfied: grpcio-status<2.0dev,>=1.33.2 in /opt/conda/lib/python3.7/site-packages (from google-api-core[grpc]!=2.0.*,!=2.1.*,!=2.2.*,!=2.3.*,!=2.4.*,!=2.5.*,!=2.6.*,!=2.7.*,<3.0.0dev,>=1.32.0->google-cloud-aiplatform>=1.25) (1.48.1)\n",
      "Requirement already satisfied: google-cloud-core<3.0.0dev,>=1.6.0 in /opt/conda/lib/python3.7/site-packages (from google-cloud-bigquery<4.0.0dev,>=1.15.0->google-cloud-aiplatform>=1.25) (2.3.3)\n",
      "Requirement already satisfied: google-resumable-media<3.0dev,>=0.6.0 in /opt/conda/lib/python3.7/site-packages (from google-cloud-bigquery<4.0.0dev,>=1.15.0->google-cloud-aiplatform>=1.25) (2.6.0)\n",
      "Requirement already satisfied: python-dateutil<3.0dev,>=2.7.2 in /opt/conda/lib/python3.7/site-packages (from google-cloud-bigquery<4.0.0dev,>=1.15.0->google-cloud-aiplatform>=1.25) (2.8.2)\n",
      "Requirement already satisfied: grpc-google-iam-v1<1.0.0dev,>=0.12.4 in /opt/conda/lib/python3.7/site-packages (from google-cloud-resource-manager<3.0.0dev,>=1.3.3->google-cloud-aiplatform>=1.25) (0.12.6)\n",
      "Requirement already satisfied: cachetools<6.0,>=2.0.0 in /opt/conda/lib/python3.7/site-packages (from google-auth<3.0dev,>=1.25.0->google-api-core[grpc]!=2.0.*,!=2.1.*,!=2.2.*,!=2.3.*,!=2.4.*,!=2.5.*,!=2.6.*,!=2.7.*,<3.0.0dev,>=1.32.0->google-cloud-aiplatform>=1.25) (4.2.4)\n",
      "Requirement already satisfied: pyasn1-modules>=0.2.1 in /opt/conda/lib/python3.7/site-packages (from google-auth<3.0dev,>=1.25.0->google-api-core[grpc]!=2.0.*,!=2.1.*,!=2.2.*,!=2.3.*,!=2.4.*,!=2.5.*,!=2.6.*,!=2.7.*,<3.0.0dev,>=1.32.0->google-cloud-aiplatform>=1.25) (0.3.0)\n",
      "Requirement already satisfied: rsa<5,>=3.1.4 in /opt/conda/lib/python3.7/site-packages (from google-auth<3.0dev,>=1.25.0->google-api-core[grpc]!=2.0.*,!=2.1.*,!=2.2.*,!=2.3.*,!=2.4.*,!=2.5.*,!=2.6.*,!=2.7.*,<3.0.0dev,>=1.32.0->google-cloud-aiplatform>=1.25) (4.9)\n",
      "Requirement already satisfied: urllib3<2.0 in /opt/conda/lib/python3.7/site-packages (from google-auth<3.0dev,>=1.25.0->google-api-core[grpc]!=2.0.*,!=2.1.*,!=2.2.*,!=2.3.*,!=2.4.*,!=2.5.*,!=2.6.*,!=2.7.*,<3.0.0dev,>=1.32.0->google-cloud-aiplatform>=1.25) (1.26.16)\n",
      "Requirement already satisfied: google-crc32c<2.0dev,>=1.0 in /opt/conda/lib/python3.7/site-packages (from google-resumable-media<3.0dev,>=0.6.0->google-cloud-bigquery<4.0.0dev,>=1.15.0->google-cloud-aiplatform>=1.25) (1.5.0)\n",
      "Requirement already satisfied: six>=1.5.2 in /opt/conda/lib/python3.7/site-packages (from grpcio<2.0dev,>=1.33.2->google-api-core[grpc]!=2.0.*,!=2.1.*,!=2.2.*,!=2.3.*,!=2.4.*,!=2.5.*,!=2.6.*,!=2.7.*,<3.0.0dev,>=1.32.0->google-cloud-aiplatform>=1.25) (1.16.0)\n",
      "Requirement already satisfied: charset-normalizer<4,>=2 in /opt/conda/lib/python3.7/site-packages (from requests<3.0.0dev,>=2.18.0->google-api-core[grpc]!=2.0.*,!=2.1.*,!=2.2.*,!=2.3.*,!=2.4.*,!=2.5.*,!=2.6.*,!=2.7.*,<3.0.0dev,>=1.32.0->google-cloud-aiplatform>=1.25) (2.1.1)\n",
      "Requirement already satisfied: idna<4,>=2.5 in /opt/conda/lib/python3.7/site-packages (from requests<3.0.0dev,>=2.18.0->google-api-core[grpc]!=2.0.*,!=2.1.*,!=2.2.*,!=2.3.*,!=2.4.*,!=2.5.*,!=2.6.*,!=2.7.*,<3.0.0dev,>=1.32.0->google-cloud-aiplatform>=1.25) (3.4)\n",
      "Requirement already satisfied: certifi>=2017.4.17 in /opt/conda/lib/python3.7/site-packages (from requests<3.0.0dev,>=2.18.0->google-api-core[grpc]!=2.0.*,!=2.1.*,!=2.2.*,!=2.3.*,!=2.4.*,!=2.5.*,!=2.6.*,!=2.7.*,<3.0.0dev,>=1.32.0->google-cloud-aiplatform>=1.25) (2023.7.22)\n",
      "Requirement already satisfied: pyasn1<0.6.0,>=0.4.6 in /opt/conda/lib/python3.7/site-packages (from pyasn1-modules>=0.2.1->google-auth<3.0dev,>=1.25.0->google-api-core[grpc]!=2.0.*,!=2.1.*,!=2.2.*,!=2.3.*,!=2.4.*,!=2.5.*,!=2.6.*,!=2.7.*,<3.0.0dev,>=1.32.0->google-cloud-aiplatform>=1.25) (0.5.0)\n"
     ]
    }
   ],
   "source": [
    "# Install Required Libraries\n",
    "!pip3 install \"google-cloud-aiplatform>=1.25\" \"shapely<2.0.0\""
   ]
  },
  {
   "cell_type": "code",
   "execution_count": 1,
   "id": "cb177979-b284-456a-ba78-6a8c3e3870bd",
   "metadata": {},
   "outputs": [
    {
     "name": "stderr",
     "output_type": "stream",
     "text": [
      "2023-12-05 19:50:05.908583: I tensorflow/core/platform/cpu_feature_guard.cc:193] This TensorFlow binary is optimized with oneAPI Deep Neural Network Library (oneDNN) to use the following CPU instructions in performance-critical operations:  AVX2 FMA\n",
      "To enable them in other operations, rebuild TensorFlow with the appropriate compiler flags.\n",
      "2023-12-05 19:50:07.091012: W tensorflow/compiler/xla/stream_executor/platform/default/dso_loader.cc:64] Could not load dynamic library 'libnvinfer.so.7'; dlerror: libnvinfer.so.7: cannot open shared object file: No such file or directory; LD_LIBRARY_PATH: /usr/local/cuda/lib64:/usr/local/nccl2/lib:/usr/local/cuda/extras/CUPTI/lib64\n",
      "2023-12-05 19:50:07.091154: W tensorflow/compiler/xla/stream_executor/platform/default/dso_loader.cc:64] Could not load dynamic library 'libnvinfer_plugin.so.7'; dlerror: libnvinfer_plugin.so.7: cannot open shared object file: No such file or directory; LD_LIBRARY_PATH: /usr/local/cuda/lib64:/usr/local/nccl2/lib:/usr/local/cuda/extras/CUPTI/lib64\n",
      "2023-12-05 19:50:07.091168: W tensorflow/compiler/tf2tensorrt/utils/py_utils.cc:38] TF-TRT Warning: Cannot dlopen some TensorRT libraries. If you would like to use Nvidia GPU with TensorRT, please make sure the missing libraries mentioned above are installed properly.\n"
     ]
    }
   ],
   "source": [
    "# Import Vertex AI SDK\n",
    "PROJECT_ID = !gcloud config get project\n",
    "PROJECT_ID = PROJECT_ID.n\n",
    "LOCATION = \"europe-west2\"\n",
    "LOCATION_DEPLOY = \"europe-west2\" #Location to deploy GCP resources\n",
    "\n",
    "import vertexai\n",
    "from google.cloud import aiplatform\n",
    "\n",
    "vertexai.init(project=PROJECT_ID, location=LOCATION)"
   ]
  },
  {
   "cell_type": "code",
   "execution_count": 2,
   "id": "1165c705-d131-4022-a9cb-bc02a7127b61",
   "metadata": {},
   "outputs": [
    {
     "data": {
      "text/plain": [
       "'playpen-8d8611'"
      ]
     },
     "execution_count": 2,
     "metadata": {},
     "output_type": "execute_result"
    }
   ],
   "source": [
    "PROJECT_ID"
   ]
  },
  {
   "cell_type": "markdown",
   "id": "dec92d49-de0b-47c4-9071-aa74c2d8c062",
   "metadata": {},
   "source": [
    "## Import TextEmbeddingModel\n",
    "\n",
    "**Available models as of Sep 2023:**\n",
    "| Models | Description\n",
    "| :- | :- |\n",
    "| textembedding-gecko@001 | stable |\n",
    "| textembedding-gecko@latest | public preview: an embeddings model with enhanced AI quality |\n",
    "| textembedding-gecko-multilingual@latest | public preview: an embeddings model designed to use a wide range of non-English languages. |\n",
    "\n",
    "\n",
    "Further documentation on available models can be found here: https://cloud.google.com/vertex-ai/docs/generative-ai/embeddings/get-text-embeddings#generative-ai-get-text-embedding-python"
   ]
  },
  {
   "cell_type": "code",
   "execution_count": 3,
   "id": "bcb9c36d-f0a3-47d2-9ed5-bc99fad4c23c",
   "metadata": {},
   "outputs": [],
   "source": [
    "from vertexai.preview.language_models import TextEmbeddingModel\n",
    "\n",
    "model = TextEmbeddingModel.from_pretrained(\"textembedding-gecko@001\")"
   ]
  },
  {
   "cell_type": "markdown",
   "id": "6b997769-ceaf-4837-afe6-fffae3e4d8ab",
   "metadata": {},
   "source": [
    "## Import Required Packages\n",
    "\n",
    "Outputs with regard to Tensorflow can be ignored as this is caused by this notebook being CPU only, a GPU is not required for this demonstration.\n"
   ]
  },
  {
   "cell_type": "code",
   "execution_count": 42,
   "id": "51e7ebba-ad16-43db-a36d-30cecd8d1316",
   "metadata": {},
   "outputs": [],
   "source": [
    "import json\n",
    "import time\n",
    "\n",
    "import numpy as np\n",
    "import pandas as pd"
   ]
  },
  {
   "cell_type": "markdown",
   "id": "47573a7f-5af5-4163-af8f-4a7462ed14a1",
   "metadata": {},
   "source": [
    "## Create Embedding Dataset.\n",
    "\n",
    "The dataset is solely to demonstrate the use of the Text Embedding API with a vector database. It is not intended to be used for any other purpose, such as evaluating models. The dataset is small and does not represent a comprehensive sample of all possible text.\n",
    "\n",
    "The following command copies the data json file from a google storage bucket, the data is stored locally within the notebook for use. "
   ]
  },
  {
   "cell_type": "markdown",
   "id": "b676dbc8-7865-41dc-b45f-c5c75cff1f4f",
   "metadata": {
    "tags": []
   },
   "source": [
    "### Load data.json as a python list"
   ]
  },
  {
   "cell_type": "markdown",
   "id": "f1c2781e-3d95-44b4-9745-63366fcef6b6",
   "metadata": {},
   "source": [
    "### Peek at the data"
   ]
  },
  {
   "cell_type": "code",
   "execution_count": 43,
   "id": "abcd3dbc-cece-4b58-8aa7-c599024acf56",
   "metadata": {
    "tags": []
   },
   "outputs": [],
   "source": [
    "df = pd.read_csv('text_data.csv')\n",
    "df.dropna(subset=['text'], inplace=True)\n",
    "df = df[df['text'] != '']"
   ]
  },
  {
   "cell_type": "code",
   "execution_count": 11,
   "id": "8e19d81c-a106-4ced-b54f-e8288bacb41e",
   "metadata": {},
   "outputs": [
    {
     "name": "stdout",
     "output_type": "stream",
     "text": [
      "/home/jupyter/help_guide\n"
     ]
    }
   ],
   "source": [
    "cd ../help_guide"
   ]
  },
  {
   "cell_type": "markdown",
   "id": "dd147c2f-6653-48c2-ad64-df8255b2aba0",
   "metadata": {},
   "source": [
    "### Get embeddings from the Google Embedding Model\n",
    "\n",
    "The following code sends a request to the embedding model api to get the embedding vector for each entry in the dataset and stores it in a Python DataFrame.\n",
    "\n",
    "The number of dimensions of the embedding vectors is 768 for the text-embedding gecko model."
   ]
  },
  {
   "cell_type": "code",
   "execution_count": 44,
   "id": "4f732506-1c2a-4117-a9b6-132e49ecc601",
   "metadata": {},
   "outputs": [],
   "source": [
    "def get_embedding(text):\n",
    "    get_embedding.counter += 1\n",
    "    try:\n",
    "        if get_embedding.counter % 100 == 0:\n",
    "            time.sleep(3)\n",
    "        return model.get_embeddings([text])[0].values #Send request to embedding model\n",
    "    except:\n",
    "        return []\n",
    "\n",
    "\n",
    "get_embedding.counter = 0\n",
    "\n",
    "# This may take several minutes to complete.\n",
    "df[\"embedding\"] = df[\"text\"].apply(lambda x: get_embedding(x))\n",
    "\n",
    "# Convert the embeddings into a Python list \n",
    "embeddings_list = df['embedding'].values.tolist()"
   ]
  },
  {
   "cell_type": "code",
   "execution_count": 37,
   "id": "e22de008-9a6c-4253-8f8a-8a0a275eecad",
   "metadata": {},
   "outputs": [
    {
     "data": {
      "text/plain": [
       "0     [-0.0025650213938206434, 0.006478543858975172,...\n",
       "1     [0.014412334188818932, -0.005281571764498949, ...\n",
       "2     [-0.008918189443647861, -0.024692846462130547,...\n",
       "3     [0.002036351477727294, -0.0008238544687628746,...\n",
       "4     [0.015345461666584015, -0.011854755692183971, ...\n",
       "5     [0.0017794094746932387, -0.014604448340833187,...\n",
       "6     [0.027216080576181412, -0.002777953865006566, ...\n",
       "7     [0.01929323561489582, -0.01205194741487503, 0....\n",
       "8     [0.02833694778382778, -0.007414362393319607, -...\n",
       "9     [-0.01748501881957054, -0.0207620058208704, -0...\n",
       "10    [0.027162881568074226, -0.018828000873327255, ...\n",
       "11    [0.020501218736171722, 0.006840361747890711, 0...\n",
       "13    [0.01842471770942211, -0.04378639534115791, -0...\n",
       "14    [-0.0010168530279770494, -0.010135345160961151...\n",
       "15    [-0.018353095278143883, -0.008018066175282001,...\n",
       "16    [-0.024011988192796707, -0.023942427709698677,...\n",
       "18    [0.012686347588896751, -0.009768741205334663, ...\n",
       "19    [0.021655980497598648, 0.010936704464256763, -...\n",
       "20    [-0.0013623132836073637, 0.0033216115552932024...\n",
       "21    [0.010945376008749008, 0.006005278788506985, -...\n",
       "22    [0.020348472520709038, -0.013283560052514076, ...\n",
       "23    [0.0007167472504079342, 0.003270598826929927, ...\n",
       "24    [-0.012762312777340412, -0.020280400291085243,...\n",
       "25    [0.025590427219867706, 0.010802790522575378, 0...\n",
       "26    [-0.002853960497304797, -0.016888724640011787,...\n",
       "27    [0.004080204758793116, 0.0008700659964233637, ...\n",
       "28    [0.005169077776372433, 0.000527650467120111, 0...\n",
       "30    [-0.021882355213165283, -0.012831957079470158,...\n",
       "31    [0.01375321764498949, 0.006424612365663052, 0....\n",
       "32    [0.015988174825906754, -0.020355839282274246, ...\n",
       "33    [0.01260589063167572, -0.018143747001886368, -...\n",
       "34    [-0.006593004800379276, -0.01901417225599289, ...\n",
       "35    [0.012759578414261341, 0.011595635674893856, 0...\n",
       "36    [-0.006987584289163351, 0.0015038573183119297,...\n",
       "37    [-0.005150559823960066, 0.0038189070764929056,...\n",
       "38    [0.013804931193590164, -0.005470065865665674, ...\n",
       "39    [0.009487831965088844, 0.0077537791803479195, ...\n",
       "40    [0.024814384058117867, 0.0027276461478322744, ...\n",
       "41    [0.004163379780948162, 0.0035587367601692677, ...\n",
       "42    [0.01884440705180168, 0.00939993653446436, 0.0...\n",
       "43    [0.025363406166434288, -0.002215804299339652, ...\n",
       "44    [0.0021230161655694246, -0.01853606104850769, ...\n",
       "45    [-0.015927735716104507, -0.024084212258458138,...\n",
       "46    [0.00301123084500432, -0.01626351661980152, 0....\n",
       "47    [-0.004421891178935766, -0.0012043393217027187...\n",
       "48    [0.015751808881759644, -0.0027552966494113207,...\n",
       "49    [-0.015706172212958336, -0.021911418065428734,...\n",
       "51    [0.0013563540996983647, -0.02809358760714531, ...\n",
       "52    [0.002128794090822339, 0.005434019956737757, -...\n",
       "53    [-0.008435921743512154, 0.009204830974340439, ...\n",
       "54    [-0.0030735277105122805, 0.002673938637599349,...\n",
       "55    [-0.006252669263631105, -0.0031464979983866215...\n",
       "56    [-0.03146033361554146, -0.01717301271855831, -...\n",
       "57    [-0.0010499084601178765, 0.010590355843305588,...\n",
       "60    [-0.000400342425564304, -0.01534621324390173, ...\n",
       "61    [0.03204796835780144, 0.0034795848187059164, -...\n",
       "62    [0.008700172416865826, 0.010498367249965668, -...\n",
       "63    [0.0216798335313797, -0.005543823353946209, -0...\n",
       "64    [0.012615256942808628, -0.00468134880065918, -...\n",
       "66    [0.004123935010284185, 0.014020898379385471, 0...\n",
       "Name: embedding, dtype: object"
      ]
     },
     "execution_count": 37,
     "metadata": {},
     "output_type": "execute_result"
    }
   ],
   "source": [
    "df['embedding']"
   ]
  },
  {
   "cell_type": "markdown",
   "id": "705fd1ff-4a74-4fa9-a8cf-9661608cf816",
   "metadata": {},
   "source": [
    "## Using Vertex AI Vector Search Approximate Nearest Neighbour (ANN) Service\n",
    "\n",
    "Vertex AI Vector Search (formerly known as Matching Engine) is a vector database, which can find the most similar vectors from over a billion vectors. Matching Engine's ANN service can serve similarity-matching queries at high queries per second (QPS).\n",
    "\n",
    "Further Details and Documentation: https://cloud.google.com/vertex-ai/docs/matching-engine/ann-service-overview\n",
    "\n",
    "**Terminology**\n",
    "- **Index:** A collection of vectors deployed together for similarity search. Vectors can be added to an index or removed from an index. Similarity search queries are issued to a specific index and will search over the vectors in that index.\n",
    "- **Recall:** The percentage of true nearest neighbors returned by the index. For example, if a nearest neighbor query for 20 nearest neighbors returned 19 of the \"ground truth\" nearest neighbors, the recall is 19/20x100 = 95%.\n",
    "- **Restricts:** Functionality to \"restrict\" searches to a subset of the index by using Boolean rules."
   ]
  },
  {
   "cell_type": "markdown",
   "id": "23c542d5-3021-4f24-9b39-9bd7b5e6163f",
   "metadata": {},
   "source": [
    "### Generate Embedding File\n",
    "\n",
    "\n",
    "This function converts the embedding and saves it into a json file format usable with matching engine in the following format. \n",
    "- Encode the file using UTF-8.\n",
    "- Make each line a valid JSON object to be interpreted as a record.\n",
    "- Include in each record a field named id that requires a valid UTF-8 string that is the ID of the vector.\n",
    "- Include in each record a field named embedding that requires an array of numbers. This is the feature vector.\n",
    "\n",
    "Other file formats can be found here: https://cloud.google.com/vertex-ai/docs/matching-engine/match-eng-setup/format-structure#json"
   ]
  },
  {
   "cell_type": "code",
   "execution_count": 46,
   "id": "bba45144-ba7e-4b76-a13c-26cae65f6ab5",
   "metadata": {},
   "outputs": [],
   "source": [
    "with open(\"datasets/vector_search_dataset.json\", \"w\", encoding='UTF-8') as f:\n",
    "    for i in range(len(embeddings_list)):\n",
    "        json_object = json.dumps({\n",
    "            'id': str(i),\n",
    "            'embedding': embeddings_list[i]\n",
    "        })\n",
    "        f.write(json_object)\n",
    "        f.write('\\n')"
   ]
  },
  {
   "cell_type": "markdown",
   "id": "e04efd0b-245a-4f3c-90b2-6443c235f4b4",
   "metadata": {},
   "source": [
    "### Copy Dataset to Storage Bucket\n",
    "The following command copies the data file to a cloud storage bucket. Folder structure documentation: https://cloud.google.com/vertex-ai/docs/matching-engine/match-eng-setup/format-structure#input_directory_structure\n",
    "\n",
    "Supported Update Methods:\n",
    "- **Batch:** To update the content of an existing Index, use the IndexService.UpdateIndex method.\n",
    "- **Streaming:** With Streaming Updates, you can update and query your index within a few seconds. At this time, you can't use Streaming Updates on an existing index, you must create a new index.\n",
    "\n",
    "Documentation: https://cloud.google.com/vertex-ai/docs/matching-engine/update-rebuild-index#update_index_content_with_batch_updates"
   ]
  },
  {
   "cell_type": "code",
   "execution_count": 39,
   "id": "bd50467c-d690-4e12-85eb-644aa87dc125",
   "metadata": {},
   "outputs": [
    {
     "name": "stdout",
     "output_type": "stream",
     "text": [
      "Copying file://datasets/vector_search_dataset.json [Content-Type=application/json]...\n",
      "/ [1 files][951.1 KiB/951.1 KiB]                                                \n",
      "Operation completed over 1 objects/951.1 KiB.                                    \n"
     ]
    }
   ],
   "source": [
    "!mkdir -p datasets\n",
    "!gsutil copy datasets/vector_search_dataset.json gs://gen-ai-{PROJECT_ID}-bucket/embeddings/vs_root/vector_search_dataset.json"
   ]
  },
  {
   "cell_type": "markdown",
   "id": "026abd3e-27e5-4df2-b23a-d2625eda989e",
   "metadata": {},
   "source": [
    "### Create an Index\n",
    "\n",
    "Details on configuration parameters can be found here: https://cloud.google.com/vertex-ai/docs/matching-engine/configuring-indexes\n",
    "\n",
    "**It can take up to 30 minutes to deploy.**\n"
   ]
  },
  {
   "cell_type": "code",
   "execution_count": 53,
   "id": "d9a65998-92a3-4d9c-b729-92f44352a86a",
   "metadata": {},
   "outputs": [
    {
     "name": "stdout",
     "output_type": "stream",
     "text": [
      "Creating MatchingEngineIndex\n",
      "Create MatchingEngineIndex backing LRO: projects/336030387678/locations/europe-west2/indexes/3025433787174486016/operations/5963380533638463488\n",
      "MatchingEngineIndex created. Resource name: projects/336030387678/locations/europe-west2/indexes/3025433787174486016\n",
      "To use this MatchingEngineIndex in another session:\n",
      "index = aiplatform.MatchingEngineIndex('projects/336030387678/locations/europe-west2/indexes/3025433787174486016')\n"
     ]
    }
   ],
   "source": [
    "DIMENSIONS = 768\n",
    "GS_URI = \"gs://gen-ai-%s-bucket/embeddings/vs_root/\" % PROJECT_ID\n",
    "\n",
    "gen_ai_index = aiplatform.MatchingEngineIndex.create_tree_ah_index(\n",
    "    display_name=\"Gen AI Index\",\n",
    "    contents_delta_uri=GS_URI,\n",
    "    dimensions=DIMENSIONS,\n",
    "    approximate_neighbors_count=5,\n",
    "    distance_measure_type=\"DOT_PRODUCT_DISTANCE\",\n",
    "    leaf_node_embedding_count=10,\n",
    "    leaf_nodes_to_search_percent=80,\n",
    "    description=\"Example Index for Gen AI Playpen\",\n",
    "    location=LOCATION_DEPLOY\n",
    ")"
   ]
  },
  {
   "cell_type": "markdown",
   "id": "90580dc3-0ea9-490a-8dd9-bae9d6eb1d0f",
   "metadata": {},
   "source": [
    "### Create an Index Endpoint\n",
    "\n",
    "The following function is used to create an index endpoint, this allows for queries to be sent to the index"
   ]
  },
  {
   "cell_type": "code",
   "execution_count": 54,
   "id": "879730f0-08e1-43cb-8e9d-84ed5ed21eb6",
   "metadata": {},
   "outputs": [
    {
     "name": "stdout",
     "output_type": "stream",
     "text": [
      "Creating MatchingEngineIndexEndpoint\n",
      "Create MatchingEngineIndexEndpoint backing LRO: projects/336030387678/locations/europe-west2/indexEndpoints/8762456762491076608/operations/5463480975000338432\n",
      "MatchingEngineIndexEndpoint created. Resource name: projects/336030387678/locations/europe-west2/indexEndpoints/8762456762491076608\n",
      "To use this MatchingEngineIndexEndpoint in another session:\n",
      "index_endpoint = aiplatform.MatchingEngineIndexEndpoint('projects/336030387678/locations/europe-west2/indexEndpoints/8762456762491076608')\n"
     ]
    }
   ],
   "source": [
    "gen_ai_index_endpoint = aiplatform.MatchingEngineIndexEndpoint.create(\n",
    "    display_name=\"Gen AI Index Endpoint\",\n",
    "    description=\"Example Index for Gen AI Playpen\",\n",
    "    public_endpoint_enabled=True,\n",
    "    location=LOCATION_DEPLOY\n",
    ")"
   ]
  },
  {
   "cell_type": "markdown",
   "id": "9c676aad-7a40-4eda-a707-b05826116648",
   "metadata": {},
   "source": [
    "### Deploy the Index to the Index-Endpoint"
   ]
  },
  {
   "cell_type": "code",
   "execution_count": 56,
   "id": "fbb12ba9-daec-4447-bbc4-5f515eeed6de",
   "metadata": {},
   "outputs": [
    {
     "name": "stdout",
     "output_type": "stream",
     "text": [
      "Deploying index MatchingEngineIndexEndpoint index_endpoint: projects/336030387678/locations/europe-west2/indexEndpoints/8762456762491076608\n"
     ]
    },
    {
     "ename": "AlreadyExists",
     "evalue": "409 There already exists a DeployedIndex with same ID \"gen_ai_deployed_index\" deployed or being deployed at the following IndexEndpoint: projects/336030387678/locations/europe-west2/indexEndpoints/8762456762491076608. Please use a different ID.",
     "output_type": "error",
     "traceback": [
      "\u001b[0;31m---------------------------------------------------------------------------\u001b[0m",
      "\u001b[0;31m_InactiveRpcError\u001b[0m                         Traceback (most recent call last)",
      "\u001b[0;32m/opt/conda/lib/python3.7/site-packages/google/api_core/grpc_helpers.py\u001b[0m in \u001b[0;36merror_remapped_callable\u001b[0;34m(*args, **kwargs)\u001b[0m\n\u001b[1;32m     64\u001b[0m         \u001b[0;32mtry\u001b[0m\u001b[0;34m:\u001b[0m\u001b[0;34m\u001b[0m\u001b[0;34m\u001b[0m\u001b[0m\n\u001b[0;32m---> 65\u001b[0;31m             \u001b[0;32mreturn\u001b[0m \u001b[0mcallable_\u001b[0m\u001b[0;34m(\u001b[0m\u001b[0;34m*\u001b[0m\u001b[0margs\u001b[0m\u001b[0;34m,\u001b[0m \u001b[0;34m**\u001b[0m\u001b[0mkwargs\u001b[0m\u001b[0;34m)\u001b[0m\u001b[0;34m\u001b[0m\u001b[0;34m\u001b[0m\u001b[0m\n\u001b[0m\u001b[1;32m     66\u001b[0m         \u001b[0;32mexcept\u001b[0m \u001b[0mgrpc\u001b[0m\u001b[0;34m.\u001b[0m\u001b[0mRpcError\u001b[0m \u001b[0;32mas\u001b[0m \u001b[0mexc\u001b[0m\u001b[0;34m:\u001b[0m\u001b[0;34m\u001b[0m\u001b[0;34m\u001b[0m\u001b[0m\n",
      "\u001b[0;32m/opt/conda/lib/python3.7/site-packages/grpc/_channel.py\u001b[0m in \u001b[0;36m__call__\u001b[0;34m(self, request, timeout, metadata, credentials, wait_for_ready, compression)\u001b[0m\n\u001b[1;32m   1160\u001b[0m         )\n\u001b[0;32m-> 1161\u001b[0;31m         \u001b[0;32mreturn\u001b[0m \u001b[0m_end_unary_response_blocking\u001b[0m\u001b[0;34m(\u001b[0m\u001b[0mstate\u001b[0m\u001b[0;34m,\u001b[0m \u001b[0mcall\u001b[0m\u001b[0;34m,\u001b[0m \u001b[0;32mFalse\u001b[0m\u001b[0;34m,\u001b[0m \u001b[0;32mNone\u001b[0m\u001b[0;34m)\u001b[0m\u001b[0;34m\u001b[0m\u001b[0;34m\u001b[0m\u001b[0m\n\u001b[0m\u001b[1;32m   1162\u001b[0m \u001b[0;34m\u001b[0m\u001b[0m\n",
      "\u001b[0;32m/opt/conda/lib/python3.7/site-packages/grpc/_channel.py\u001b[0m in \u001b[0;36m_end_unary_response_blocking\u001b[0;34m(state, call, with_call, deadline)\u001b[0m\n\u001b[1;32m   1003\u001b[0m     \u001b[0;32melse\u001b[0m\u001b[0;34m:\u001b[0m\u001b[0;34m\u001b[0m\u001b[0;34m\u001b[0m\u001b[0m\n\u001b[0;32m-> 1004\u001b[0;31m         \u001b[0;32mraise\u001b[0m \u001b[0m_InactiveRpcError\u001b[0m\u001b[0;34m(\u001b[0m\u001b[0mstate\u001b[0m\u001b[0;34m)\u001b[0m  \u001b[0;31m# pytype: disable=not-instantiable\u001b[0m\u001b[0;34m\u001b[0m\u001b[0;34m\u001b[0m\u001b[0m\n\u001b[0m\u001b[1;32m   1005\u001b[0m \u001b[0;34m\u001b[0m\u001b[0m\n",
      "\u001b[0;31m_InactiveRpcError\u001b[0m: <_InactiveRpcError of RPC that terminated with:\n\tstatus = StatusCode.ALREADY_EXISTS\n\tdetails = \"There already exists a DeployedIndex with same ID \"gen_ai_deployed_index\" deployed or being deployed at the following IndexEndpoint: projects/336030387678/locations/europe-west2/indexEndpoints/8762456762491076608. Please use a different ID.\"\n\tdebug_error_string = \"UNKNOWN:Error received from peer ipv4:142.250.178.10:443 {grpc_message:\"There already exists a DeployedIndex with same ID \\\"gen_ai_deployed_index\\\" deployed or being deployed at the following IndexEndpoint: projects/336030387678/locations/europe-west2/indexEndpoints/8762456762491076608. Please use a different ID.\", grpc_status:6, created_time:\"2023-12-06T00:30:00.853893113+00:00\"}\"\n>",
      "\nThe above exception was the direct cause of the following exception:\n",
      "\u001b[0;31mAlreadyExists\u001b[0m                             Traceback (most recent call last)",
      "\u001b[0;32m/var/tmp/ipykernel_4032/651359598.py\u001b[0m in \u001b[0;36m<module>\u001b[0;34m\u001b[0m\n\u001b[1;32m      3\u001b[0m     \u001b[0mmachine_type\u001b[0m\u001b[0;34m=\u001b[0m\u001b[0;34m\"e2-standard-16\"\u001b[0m\u001b[0;34m,\u001b[0m\u001b[0;34m\u001b[0m\u001b[0;34m\u001b[0m\u001b[0m\n\u001b[1;32m      4\u001b[0m     \u001b[0mmin_replica_count\u001b[0m\u001b[0;34m=\u001b[0m\u001b[0;36m1\u001b[0m\u001b[0;34m,\u001b[0m\u001b[0;34m\u001b[0m\u001b[0;34m\u001b[0m\u001b[0m\n\u001b[0;32m----> 5\u001b[0;31m     \u001b[0mmax_replica_count\u001b[0m\u001b[0;34m=\u001b[0m\u001b[0;36m1\u001b[0m\u001b[0;34m\u001b[0m\u001b[0;34m\u001b[0m\u001b[0m\n\u001b[0m\u001b[1;32m      6\u001b[0m )\n\u001b[1;32m      7\u001b[0m \u001b[0;34m\u001b[0m\u001b[0m\n",
      "\u001b[0;32m/opt/conda/lib/python3.7/site-packages/google/cloud/aiplatform/matching_engine/matching_engine_index_endpoint.py\u001b[0m in \u001b[0;36mdeploy_index\u001b[0;34m(self, index, deployed_index_id, display_name, machine_type, min_replica_count, max_replica_count, enable_access_logging, reserved_ip_ranges, deployment_group, auth_config_audiences, auth_config_allowed_issuers, request_metadata)\u001b[0m\n\u001b[1;32m    721\u001b[0m             \u001b[0mindex_endpoint\u001b[0m\u001b[0;34m=\u001b[0m\u001b[0mself\u001b[0m\u001b[0;34m.\u001b[0m\u001b[0mresource_name\u001b[0m\u001b[0;34m,\u001b[0m\u001b[0;34m\u001b[0m\u001b[0;34m\u001b[0m\u001b[0m\n\u001b[1;32m    722\u001b[0m             \u001b[0mdeployed_index\u001b[0m\u001b[0;34m=\u001b[0m\u001b[0mdeployed_index\u001b[0m\u001b[0;34m,\u001b[0m\u001b[0;34m\u001b[0m\u001b[0;34m\u001b[0m\u001b[0m\n\u001b[0;32m--> 723\u001b[0;31m             \u001b[0mmetadata\u001b[0m\u001b[0;34m=\u001b[0m\u001b[0mrequest_metadata\u001b[0m\u001b[0;34m,\u001b[0m\u001b[0;34m\u001b[0m\u001b[0;34m\u001b[0m\u001b[0m\n\u001b[0m\u001b[1;32m    724\u001b[0m         )\n\u001b[1;32m    725\u001b[0m \u001b[0;34m\u001b[0m\u001b[0m\n",
      "\u001b[0;32m/opt/conda/lib/python3.7/site-packages/google/cloud/aiplatform_v1/services/index_endpoint_service/client.py\u001b[0m in \u001b[0;36mdeploy_index\u001b[0;34m(self, request, index_endpoint, deployed_index, retry, timeout, metadata)\u001b[0m\n\u001b[1;32m   1205\u001b[0m             \u001b[0mretry\u001b[0m\u001b[0;34m=\u001b[0m\u001b[0mretry\u001b[0m\u001b[0;34m,\u001b[0m\u001b[0;34m\u001b[0m\u001b[0;34m\u001b[0m\u001b[0m\n\u001b[1;32m   1206\u001b[0m             \u001b[0mtimeout\u001b[0m\u001b[0;34m=\u001b[0m\u001b[0mtimeout\u001b[0m\u001b[0;34m,\u001b[0m\u001b[0;34m\u001b[0m\u001b[0;34m\u001b[0m\u001b[0m\n\u001b[0;32m-> 1207\u001b[0;31m             \u001b[0mmetadata\u001b[0m\u001b[0;34m=\u001b[0m\u001b[0mmetadata\u001b[0m\u001b[0;34m,\u001b[0m\u001b[0;34m\u001b[0m\u001b[0;34m\u001b[0m\u001b[0m\n\u001b[0m\u001b[1;32m   1208\u001b[0m         )\n\u001b[1;32m   1209\u001b[0m \u001b[0;34m\u001b[0m\u001b[0m\n",
      "\u001b[0;32m/opt/conda/lib/python3.7/site-packages/google/api_core/gapic_v1/method.py\u001b[0m in \u001b[0;36m__call__\u001b[0;34m(self, timeout, retry, *args, **kwargs)\u001b[0m\n\u001b[1;32m    111\u001b[0m             \u001b[0mkwargs\u001b[0m\u001b[0;34m[\u001b[0m\u001b[0;34m\"metadata\"\u001b[0m\u001b[0;34m]\u001b[0m \u001b[0;34m=\u001b[0m \u001b[0mmetadata\u001b[0m\u001b[0;34m\u001b[0m\u001b[0;34m\u001b[0m\u001b[0m\n\u001b[1;32m    112\u001b[0m \u001b[0;34m\u001b[0m\u001b[0m\n\u001b[0;32m--> 113\u001b[0;31m         \u001b[0;32mreturn\u001b[0m \u001b[0mwrapped_func\u001b[0m\u001b[0;34m(\u001b[0m\u001b[0;34m*\u001b[0m\u001b[0margs\u001b[0m\u001b[0;34m,\u001b[0m \u001b[0;34m**\u001b[0m\u001b[0mkwargs\u001b[0m\u001b[0;34m)\u001b[0m\u001b[0;34m\u001b[0m\u001b[0;34m\u001b[0m\u001b[0m\n\u001b[0m\u001b[1;32m    114\u001b[0m \u001b[0;34m\u001b[0m\u001b[0m\n\u001b[1;32m    115\u001b[0m \u001b[0;34m\u001b[0m\u001b[0m\n",
      "\u001b[0;32m/opt/conda/lib/python3.7/site-packages/google/api_core/grpc_helpers.py\u001b[0m in \u001b[0;36merror_remapped_callable\u001b[0;34m(*args, **kwargs)\u001b[0m\n\u001b[1;32m     65\u001b[0m             \u001b[0;32mreturn\u001b[0m \u001b[0mcallable_\u001b[0m\u001b[0;34m(\u001b[0m\u001b[0;34m*\u001b[0m\u001b[0margs\u001b[0m\u001b[0;34m,\u001b[0m \u001b[0;34m**\u001b[0m\u001b[0mkwargs\u001b[0m\u001b[0;34m)\u001b[0m\u001b[0;34m\u001b[0m\u001b[0;34m\u001b[0m\u001b[0m\n\u001b[1;32m     66\u001b[0m         \u001b[0;32mexcept\u001b[0m \u001b[0mgrpc\u001b[0m\u001b[0;34m.\u001b[0m\u001b[0mRpcError\u001b[0m \u001b[0;32mas\u001b[0m \u001b[0mexc\u001b[0m\u001b[0;34m:\u001b[0m\u001b[0;34m\u001b[0m\u001b[0;34m\u001b[0m\u001b[0m\n\u001b[0;32m---> 67\u001b[0;31m             \u001b[0;32mraise\u001b[0m \u001b[0mexceptions\u001b[0m\u001b[0;34m.\u001b[0m\u001b[0mfrom_grpc_error\u001b[0m\u001b[0;34m(\u001b[0m\u001b[0mexc\u001b[0m\u001b[0;34m)\u001b[0m \u001b[0;32mfrom\u001b[0m \u001b[0mexc\u001b[0m\u001b[0;34m\u001b[0m\u001b[0;34m\u001b[0m\u001b[0m\n\u001b[0m\u001b[1;32m     68\u001b[0m \u001b[0;34m\u001b[0m\u001b[0m\n\u001b[1;32m     69\u001b[0m     \u001b[0;32mreturn\u001b[0m \u001b[0merror_remapped_callable\u001b[0m\u001b[0;34m\u001b[0m\u001b[0;34m\u001b[0m\u001b[0m\n",
      "\u001b[0;31mAlreadyExists\u001b[0m: 409 There already exists a DeployedIndex with same ID \"gen_ai_deployed_index\" deployed or being deployed at the following IndexEndpoint: projects/336030387678/locations/europe-west2/indexEndpoints/8762456762491076608. Please use a different ID."
     ]
    }
   ],
   "source": [
    "gen_ai_index_endpoint = gen_ai_index_endpoint.deploy_index(\n",
    "    index=gen_ai_index, deployed_index_id=\"gen_ai_deployed_index\",\n",
    "    machine_type=\"e2-standard-16\",\n",
    "    min_replica_count=1,\n",
    "    max_replica_count=1\n",
    ")\n",
    "\n",
    "gen_ai_index_endpoint.deployed_indexes"
   ]
  },
  {
   "cell_type": "markdown",
   "id": "7c846460-0cdb-4450-890e-0750be664d72",
   "metadata": {},
   "source": [
    "### Additional Functions:\n",
    "Uncomment, replace the relevant project, region and ids to retrieve indexes and index endpoints. The ids can be found on the cloud console under Vertex AI and Vector Search on the left bar. This is useful as obtaining the index objects allow for functions on them (such as delete or query) if the notebook kernels etc. have been reset."
   ]
  },
  {
   "cell_type": "code",
   "execution_count": 50,
   "id": "ed7f36ad-baf8-4840-b54f-4f3ad6ac483d",
   "metadata": {},
   "outputs": [],
   "source": [
    "gen_ai_index_endpoint = aiplatform.MatchingEngineIndexEndpoint(\n",
    "    index_endpoint_name=\"projects/playpen-8d8611/locations/europe-west2/indexEndpoints/3083417632376881152\"\n",
    ")\n",
    "\n",
    "gen_ai_index = aiplatform.MatchingEngineIndex(\n",
    "    index_name=\"projects/playpen-8d8611/locations/europe-west2/indexes/35043634600476672\"\n",
    ")"
   ]
  },
  {
   "cell_type": "markdown",
   "id": "887be221-5fb5-4c63-8cff-015ea87337ee",
   "metadata": {
    "tags": []
   },
   "source": [
    "### Create Online Queries\n",
    "\n",
    "Pre-define function that generates an embedding for an input prompt using the embeddings-gecko model and performs a search."
   ]
  },
  {
   "cell_type": "code",
   "execution_count": 51,
   "id": "671ba8a5-b52f-4f94-9763-436714450fda",
   "metadata": {},
   "outputs": [],
   "source": [
    "NUM_NEIGHBOURS = 3 #Number of neighbours from query\n",
    "\n",
    "def search(input):\n",
    "    embedding_vec =  model.get_embeddings([input])[0].values #Send request to embedding model to generate the embedding vector\n",
    "    \n",
    "    #find neighbours using vector search\n",
    "    neighbours = gen_ai_index_endpoint.find_neighbors(\n",
    "        deployed_index_id=\"gen_ai_deployed_index\",\n",
    "        queries=[embedding_vec],\n",
    "        num_neighbors=NUM_NEIGHBOURS,\n",
    "    )[0]\n",
    "    \n",
    "    for nb in neighbours:\n",
    "        print(\"id: \" + nb.id + \" | text: \" + df.iloc[int(nb.id)][\"text\"] + \" | dist: \" + str(nb.distance)) "
   ]
  },
  {
   "cell_type": "markdown",
   "id": "54040490-9889-499d-94a6-83529908d956",
   "metadata": {},
   "source": [
    "### Example Queries\n",
    "\n",
    "If you face an openssl error, please wait up to 5 minutes for the endpoint to finish deploying."
   ]
  },
  {
   "cell_type": "code",
   "execution_count": 52,
   "id": "ebf879ce-1927-48f6-9b39-4da8947fca6d",
   "metadata": {},
   "outputs": [
    {
     "ename": "ServiceUnavailable",
     "evalue": "503 failed to connect to all addresses; last error: UNAVAILABLE: ipv4:34.149.207.131:443: Socket closed",
     "output_type": "error",
     "traceback": [
      "\u001b[0;31m---------------------------------------------------------------------------\u001b[0m",
      "\u001b[0;31m_InactiveRpcError\u001b[0m                         Traceback (most recent call last)",
      "\u001b[0;32m/opt/conda/lib/python3.7/site-packages/google/api_core/grpc_helpers.py\u001b[0m in \u001b[0;36merror_remapped_callable\u001b[0;34m(*args, **kwargs)\u001b[0m\n\u001b[1;32m     64\u001b[0m         \u001b[0;32mtry\u001b[0m\u001b[0;34m:\u001b[0m\u001b[0;34m\u001b[0m\u001b[0;34m\u001b[0m\u001b[0m\n\u001b[0;32m---> 65\u001b[0;31m             \u001b[0;32mreturn\u001b[0m \u001b[0mcallable_\u001b[0m\u001b[0;34m(\u001b[0m\u001b[0;34m*\u001b[0m\u001b[0margs\u001b[0m\u001b[0;34m,\u001b[0m \u001b[0;34m**\u001b[0m\u001b[0mkwargs\u001b[0m\u001b[0;34m)\u001b[0m\u001b[0;34m\u001b[0m\u001b[0;34m\u001b[0m\u001b[0m\n\u001b[0m\u001b[1;32m     66\u001b[0m         \u001b[0;32mexcept\u001b[0m \u001b[0mgrpc\u001b[0m\u001b[0;34m.\u001b[0m\u001b[0mRpcError\u001b[0m \u001b[0;32mas\u001b[0m \u001b[0mexc\u001b[0m\u001b[0;34m:\u001b[0m\u001b[0;34m\u001b[0m\u001b[0;34m\u001b[0m\u001b[0m\n",
      "\u001b[0;32m/opt/conda/lib/python3.7/site-packages/grpc/_channel.py\u001b[0m in \u001b[0;36m__call__\u001b[0;34m(self, request, timeout, metadata, credentials, wait_for_ready, compression)\u001b[0m\n\u001b[1;32m   1160\u001b[0m         )\n\u001b[0;32m-> 1161\u001b[0;31m         \u001b[0;32mreturn\u001b[0m \u001b[0m_end_unary_response_blocking\u001b[0m\u001b[0;34m(\u001b[0m\u001b[0mstate\u001b[0m\u001b[0;34m,\u001b[0m \u001b[0mcall\u001b[0m\u001b[0;34m,\u001b[0m \u001b[0;32mFalse\u001b[0m\u001b[0;34m,\u001b[0m \u001b[0;32mNone\u001b[0m\u001b[0;34m)\u001b[0m\u001b[0;34m\u001b[0m\u001b[0;34m\u001b[0m\u001b[0m\n\u001b[0m\u001b[1;32m   1162\u001b[0m \u001b[0;34m\u001b[0m\u001b[0m\n",
      "\u001b[0;32m/opt/conda/lib/python3.7/site-packages/grpc/_channel.py\u001b[0m in \u001b[0;36m_end_unary_response_blocking\u001b[0;34m(state, call, with_call, deadline)\u001b[0m\n\u001b[1;32m   1003\u001b[0m     \u001b[0;32melse\u001b[0m\u001b[0;34m:\u001b[0m\u001b[0;34m\u001b[0m\u001b[0;34m\u001b[0m\u001b[0m\n\u001b[0;32m-> 1004\u001b[0;31m         \u001b[0;32mraise\u001b[0m \u001b[0m_InactiveRpcError\u001b[0m\u001b[0;34m(\u001b[0m\u001b[0mstate\u001b[0m\u001b[0;34m)\u001b[0m  \u001b[0;31m# pytype: disable=not-instantiable\u001b[0m\u001b[0;34m\u001b[0m\u001b[0;34m\u001b[0m\u001b[0m\n\u001b[0m\u001b[1;32m   1005\u001b[0m \u001b[0;34m\u001b[0m\u001b[0m\n",
      "\u001b[0;31m_InactiveRpcError\u001b[0m: <_InactiveRpcError of RPC that terminated with:\n\tstatus = StatusCode.UNAVAILABLE\n\tdetails = \"failed to connect to all addresses; last error: UNAVAILABLE: ipv4:34.149.207.131:443: Socket closed\"\n\tdebug_error_string = \"UNKNOWN:failed to connect to all addresses; last error: UNAVAILABLE: ipv4:34.149.207.131:443: Socket closed {created_time:\"2023-12-05T23:02:37.43589963+00:00\", grpc_status:14}\"\n>",
      "\nThe above exception was the direct cause of the following exception:\n",
      "\u001b[0;31mServiceUnavailable\u001b[0m                        Traceback (most recent call last)",
      "\u001b[0;32m/var/tmp/ipykernel_4032/3731130527.py\u001b[0m in \u001b[0;36m<module>\u001b[0;34m\u001b[0m\n\u001b[0;32m----> 1\u001b[0;31m \u001b[0msearch\u001b[0m\u001b[0;34m(\u001b[0m\u001b[0;34m\"tell me about reporting stolen card\"\u001b[0m\u001b[0;34m)\u001b[0m\u001b[0;34m\u001b[0m\u001b[0;34m\u001b[0m\u001b[0m\n\u001b[0m",
      "\u001b[0;32m/var/tmp/ipykernel_4032/4197642324.py\u001b[0m in \u001b[0;36msearch\u001b[0;34m(input)\u001b[0m\n\u001b[1;32m      8\u001b[0m         \u001b[0mdeployed_index_id\u001b[0m\u001b[0;34m=\u001b[0m\u001b[0;34m\"gen_ai_deployed_index\"\u001b[0m\u001b[0;34m,\u001b[0m\u001b[0;34m\u001b[0m\u001b[0;34m\u001b[0m\u001b[0m\n\u001b[1;32m      9\u001b[0m         \u001b[0mqueries\u001b[0m\u001b[0;34m=\u001b[0m\u001b[0;34m[\u001b[0m\u001b[0membedding_vec\u001b[0m\u001b[0;34m]\u001b[0m\u001b[0;34m,\u001b[0m\u001b[0;34m\u001b[0m\u001b[0;34m\u001b[0m\u001b[0m\n\u001b[0;32m---> 10\u001b[0;31m         \u001b[0mnum_neighbors\u001b[0m\u001b[0;34m=\u001b[0m\u001b[0mNUM_NEIGHBOURS\u001b[0m\u001b[0;34m,\u001b[0m\u001b[0;34m\u001b[0m\u001b[0;34m\u001b[0m\u001b[0m\n\u001b[0m\u001b[1;32m     11\u001b[0m     )[0]\n\u001b[1;32m     12\u001b[0m \u001b[0;34m\u001b[0m\u001b[0m\n",
      "\u001b[0;32m/opt/conda/lib/python3.7/site-packages/google/cloud/aiplatform/matching_engine/matching_engine_index_endpoint.py\u001b[0m in \u001b[0;36mfind_neighbors\u001b[0;34m(self, deployed_index_id, queries, num_neighbors, filter)\u001b[0m\n\u001b[1;32m   1009\u001b[0m             \u001b[0mfind_neighbors_request\u001b[0m\u001b[0;34m.\u001b[0m\u001b[0mqueries\u001b[0m\u001b[0;34m.\u001b[0m\u001b[0mappend\u001b[0m\u001b[0;34m(\u001b[0m\u001b[0mfind_neighbors_query\u001b[0m\u001b[0;34m)\u001b[0m\u001b[0;34m\u001b[0m\u001b[0;34m\u001b[0m\u001b[0m\n\u001b[1;32m   1010\u001b[0m \u001b[0;34m\u001b[0m\u001b[0m\n\u001b[0;32m-> 1011\u001b[0;31m         \u001b[0mresponse\u001b[0m \u001b[0;34m=\u001b[0m \u001b[0mself\u001b[0m\u001b[0;34m.\u001b[0m\u001b[0m_public_match_client\u001b[0m\u001b[0;34m.\u001b[0m\u001b[0mfind_neighbors\u001b[0m\u001b[0;34m(\u001b[0m\u001b[0mfind_neighbors_request\u001b[0m\u001b[0;34m)\u001b[0m\u001b[0;34m\u001b[0m\u001b[0;34m\u001b[0m\u001b[0m\n\u001b[0m\u001b[1;32m   1012\u001b[0m \u001b[0;34m\u001b[0m\u001b[0m\n\u001b[1;32m   1013\u001b[0m         \u001b[0;31m# Wrap the results in MatchNeighbor objects and return\u001b[0m\u001b[0;34m\u001b[0m\u001b[0;34m\u001b[0m\u001b[0;34m\u001b[0m\u001b[0m\n",
      "\u001b[0;32m/opt/conda/lib/python3.7/site-packages/google/cloud/aiplatform_v1beta1/services/match_service/client.py\u001b[0m in \u001b[0;36mfind_neighbors\u001b[0;34m(self, request, retry, timeout, metadata)\u001b[0m\n\u001b[1;32m    523\u001b[0m             \u001b[0mretry\u001b[0m\u001b[0;34m=\u001b[0m\u001b[0mretry\u001b[0m\u001b[0;34m,\u001b[0m\u001b[0;34m\u001b[0m\u001b[0;34m\u001b[0m\u001b[0m\n\u001b[1;32m    524\u001b[0m             \u001b[0mtimeout\u001b[0m\u001b[0;34m=\u001b[0m\u001b[0mtimeout\u001b[0m\u001b[0;34m,\u001b[0m\u001b[0;34m\u001b[0m\u001b[0;34m\u001b[0m\u001b[0m\n\u001b[0;32m--> 525\u001b[0;31m             \u001b[0mmetadata\u001b[0m\u001b[0;34m=\u001b[0m\u001b[0mmetadata\u001b[0m\u001b[0;34m,\u001b[0m\u001b[0;34m\u001b[0m\u001b[0;34m\u001b[0m\u001b[0m\n\u001b[0m\u001b[1;32m    526\u001b[0m         )\n\u001b[1;32m    527\u001b[0m \u001b[0;34m\u001b[0m\u001b[0m\n",
      "\u001b[0;32m/opt/conda/lib/python3.7/site-packages/google/api_core/gapic_v1/method.py\u001b[0m in \u001b[0;36m__call__\u001b[0;34m(self, timeout, retry, *args, **kwargs)\u001b[0m\n\u001b[1;32m    111\u001b[0m             \u001b[0mkwargs\u001b[0m\u001b[0;34m[\u001b[0m\u001b[0;34m\"metadata\"\u001b[0m\u001b[0;34m]\u001b[0m \u001b[0;34m=\u001b[0m \u001b[0mmetadata\u001b[0m\u001b[0;34m\u001b[0m\u001b[0;34m\u001b[0m\u001b[0m\n\u001b[1;32m    112\u001b[0m \u001b[0;34m\u001b[0m\u001b[0m\n\u001b[0;32m--> 113\u001b[0;31m         \u001b[0;32mreturn\u001b[0m \u001b[0mwrapped_func\u001b[0m\u001b[0;34m(\u001b[0m\u001b[0;34m*\u001b[0m\u001b[0margs\u001b[0m\u001b[0;34m,\u001b[0m \u001b[0;34m**\u001b[0m\u001b[0mkwargs\u001b[0m\u001b[0;34m)\u001b[0m\u001b[0;34m\u001b[0m\u001b[0;34m\u001b[0m\u001b[0m\n\u001b[0m\u001b[1;32m    114\u001b[0m \u001b[0;34m\u001b[0m\u001b[0m\n\u001b[1;32m    115\u001b[0m \u001b[0;34m\u001b[0m\u001b[0m\n",
      "\u001b[0;32m/opt/conda/lib/python3.7/site-packages/google/api_core/grpc_helpers.py\u001b[0m in \u001b[0;36merror_remapped_callable\u001b[0;34m(*args, **kwargs)\u001b[0m\n\u001b[1;32m     65\u001b[0m             \u001b[0;32mreturn\u001b[0m \u001b[0mcallable_\u001b[0m\u001b[0;34m(\u001b[0m\u001b[0;34m*\u001b[0m\u001b[0margs\u001b[0m\u001b[0;34m,\u001b[0m \u001b[0;34m**\u001b[0m\u001b[0mkwargs\u001b[0m\u001b[0;34m)\u001b[0m\u001b[0;34m\u001b[0m\u001b[0;34m\u001b[0m\u001b[0m\n\u001b[1;32m     66\u001b[0m         \u001b[0;32mexcept\u001b[0m \u001b[0mgrpc\u001b[0m\u001b[0;34m.\u001b[0m\u001b[0mRpcError\u001b[0m \u001b[0;32mas\u001b[0m \u001b[0mexc\u001b[0m\u001b[0;34m:\u001b[0m\u001b[0;34m\u001b[0m\u001b[0;34m\u001b[0m\u001b[0m\n\u001b[0;32m---> 67\u001b[0;31m             \u001b[0;32mraise\u001b[0m \u001b[0mexceptions\u001b[0m\u001b[0;34m.\u001b[0m\u001b[0mfrom_grpc_error\u001b[0m\u001b[0;34m(\u001b[0m\u001b[0mexc\u001b[0m\u001b[0;34m)\u001b[0m \u001b[0;32mfrom\u001b[0m \u001b[0mexc\u001b[0m\u001b[0;34m\u001b[0m\u001b[0;34m\u001b[0m\u001b[0m\n\u001b[0m\u001b[1;32m     68\u001b[0m \u001b[0;34m\u001b[0m\u001b[0m\n\u001b[1;32m     69\u001b[0m     \u001b[0;32mreturn\u001b[0m \u001b[0merror_remapped_callable\u001b[0m\u001b[0;34m\u001b[0m\u001b[0;34m\u001b[0m\u001b[0m\n",
      "\u001b[0;31mServiceUnavailable\u001b[0m: 503 failed to connect to all addresses; last error: UNAVAILABLE: ipv4:34.149.207.131:443: Socket closed"
     ]
    },
    {
     "name": "stderr",
     "output_type": "stream",
     "text": [
      "E1205 23:13:11.266752131   27614 ssl_transport_security.cc:1432]       Handshake failed with fatal error SSL_ERROR_SSL: error:10000410:SSL routines:OPENSSL_internal:SSLV3_ALERT_HANDSHAKE_FAILURE.\n",
      "E1205 23:15:02.929635588   27614 ssl_transport_security.cc:1432]       Handshake failed with fatal error SSL_ERROR_SSL: error:10000410:SSL routines:OPENSSL_internal:SSLV3_ALERT_HANDSHAKE_FAILURE.\n",
      "E1205 23:17:04.484823187   27614 ssl_transport_security.cc:1432]       Handshake failed with fatal error SSL_ERROR_SSL: error:10000410:SSL routines:OPENSSL_internal:SSLV3_ALERT_HANDSHAKE_FAILURE.\n",
      "E1205 23:19:22.434231690   27614 ssl_transport_security.cc:1432]       Handshake failed with fatal error SSL_ERROR_SSL: error:10000410:SSL routines:OPENSSL_internal:SSLV3_ALERT_HANDSHAKE_FAILURE.\n"
     ]
    }
   ],
   "source": [
    "search(\"tell me about reporting stolen card\")"
   ]
  },
  {
   "cell_type": "code",
   "execution_count": 21,
   "id": "ed4eca81-cffa-4f5e-9851-780ecdc6ccf5",
   "metadata": {},
   "outputs": [
    {
     "name": "stdout",
     "output_type": "stream",
     "text": [
      "id: 33 | text: Log on to Online for Business – Memorable InformationLog on securely using three characters from your memorable information, or with your Card Reader. The easiest way to log on to Online for Business is to tell us you’re on a trusted device.This means we’ll usually only ask you for three characters from your memorable information, as well as your password, each time you log on.Sometimes we may ask you to use your Card Reader, so it’s a good idea to always have one to hand.How to logonMemorable informationTrusting your deviceUsing your Card ReaderHow to set up memorable informationTo set up memorable information please log on to your account and click on the ‘Settings’ section in the top right hand corner of your Online for Business homepage.Then click on ‘change memorable information’ and follow the instructions.When you log on to your account, you will be asked to enter your user ID and your password. You will then be given the option to use either your memorable information or card reader.If you choose memorable information, you will be asked to enter three characters e.g. the second, fourth and eighth character, to complete your log on.Sometimes we may ask you to use your Card Reader, so it’s a good idea to always have one to hand.Still need help?                                 expandable sectionCall usCall us on 0345 300 0116.We’re open 8am – 8pm, seven days a week.Not all Telephone Banking services are available 24 hours a day, seven days a week.Was this helpful?YesNoNo | dist: 0.6021758913993835\n",
      "id: 65 | text: Log on to Online for BusinessLog on securely using three characters from your memorable information, or with your Card Reader. The easiest way to log on to Online for Business is to tell us you’re on a trusted device.This means we’ll usually only ask you for three characters from your memorable information, as well as your password, each time you log on.Sometimes we may ask you to use your Card Reader, so it’s a good idea to always have one to hand.How to logonMemorable informationTrusting your deviceUsing your Card ReaderHow to logonMemorable informationTrusting your deviceUsing your Card ReaderHow to log onStep 1On the first page we’ll ask for your User ID and password. Enter these in the boxes.Step 2Next we’ll need 3 characters of your memorable information. The number above each box tells you which to enter.Sometimes we may also ask you to use your Card Reader, as an additional security step.Step 3You might be asked to trust your device. This is a security feature. You should do it if you’re going to log on often from here.All done!Now you’re through to your accounts.Still need help?                                 expandable sectionCall usCall us on 0345 300 0116.We’re open 8am – 8pm, seven days a week.Not all Telephone Banking services are available 24 hours a day, seven days a week.Was this helpful?YesNoStep 2Next we’ll need 3 characters of your memorable information. The number above each box tells you which to enter.Sometimes we may also ask you to use your Card Reader, as an additional security step.All done!Now you’re through to your accounts.NoLog on to Online for BusinessLog on securely using three characters from your memorable information, or with your Card Reader. The easiest way to log on to Online for Business is to tell us you’re on a trusted device.This means we’ll usually only ask you for three characters from your memorable information, as well as your password, each time you log on.Sometimes we may ask you to use your Card Reader, so it’s a good idea to always have one to hand.How to logonMemorable informationTrusting your deviceUsing your Card ReaderHow to logonMemorable informationTrusting your deviceUsing your Card ReaderHow to log onStep 1On the first page we’ll ask for your User ID and password. Enter these in the boxes.Step 2Next we’ll need 3 characters of your memorable information. The number above each box tells you which to enter.Sometimes we may also ask you to use your Card Reader, as an additional security step.Step 3You might be asked to trust your device. This is a security feature. You should do it if you’re going to log on often from here.All done!Now you’re through to your accounts.Still need help?                                 expandable sectionCall usCall us on 0345 300 0116.We’re open 8am – 8pm, seven days a week.Not all Telephone Banking services are available 24 hours a day, seven days a week.Was this helpful?YesNoStep 2Next we’ll need 3 characters of your memorable information. The number above each box tells you which to enter.Sometimes we may also ask you to use your Card Reader, as an additional security step.All done!Now you’re through to your accounts.No | dist: 0.5957742929458618\n",
      "id: 67 | text: Claim a Direct Debit refundYou might be able to claim a refund for a Direct Debit you haven’t authorised.You might be able to claim a refund when:You have not been told in advance about a change of amount or date.The wrong amount was taken from your account.The Direct Debit was taken earlier than the agreed date or in error.You will not be able to claim a refund when:You have not received the goods or services.You have returned the goods or services.You are in a dispute with the company.You don’t agree with the company's policies, practises or ethics.You forgot to cancel the Direct Debit. You paid on your debit card.Still need help?                                 expandable sectionTo get you to the right place, we just need to check a few details with you.Other ways to get in touchWas this helpful?YesNoNo | dist: 0.5908125638961792\n"
     ]
    }
   ],
   "source": [
    "search(\"tell me about an important moment or event in your life\")"
   ]
  },
  {
   "cell_type": "markdown",
   "id": "85b9abd4-ae9f-4eb4-a0b8-97575d670b5f",
   "metadata": {},
   "source": [
    "### Clean Up Resources"
   ]
  },
  {
   "cell_type": "code",
   "execution_count": 8,
   "id": "59026bc8-9b3c-4bcd-b1f6-2f16de1e12c7",
   "metadata": {},
   "outputs": [
    {
     "ename": "NameError",
     "evalue": "name 'gen_ai_index_endpoint' is not defined",
     "output_type": "error",
     "traceback": [
      "\u001b[0;31m---------------------------------------------------------------------------\u001b[0m",
      "\u001b[0;31mNameError\u001b[0m                                 Traceback (most recent call last)",
      "\u001b[0;32m/var/tmp/ipykernel_4032/2402490722.py\u001b[0m in \u001b[0;36m<module>\u001b[0;34m\u001b[0m\n\u001b[0;32m----> 1\u001b[0;31m \u001b[0mgen_ai_index_endpoint\u001b[0m\u001b[0;34m.\u001b[0m\u001b[0mundeploy_all\u001b[0m\u001b[0;34m(\u001b[0m\u001b[0;34m)\u001b[0m\u001b[0;34m\u001b[0m\u001b[0;34m\u001b[0m\u001b[0m\n\u001b[0m\u001b[1;32m      2\u001b[0m \u001b[0mgen_ai_index_endpoint\u001b[0m\u001b[0;34m.\u001b[0m\u001b[0mdelete\u001b[0m\u001b[0;34m(\u001b[0m\u001b[0;34m)\u001b[0m \u001b[0;31m#index endpoint\u001b[0m\u001b[0;34m\u001b[0m\u001b[0;34m\u001b[0m\u001b[0m\n",
      "\u001b[0;31mNameError\u001b[0m: name 'gen_ai_index_endpoint' is not defined"
     ]
    }
   ],
   "source": [
    "gen_ai_index_endpoint.undeploy_all()\n",
    "gen_ai_index_endpoint.delete() #index endpoint"
   ]
  },
  {
   "cell_type": "code",
   "execution_count": 9,
   "id": "615d189e-2066-4719-9d27-1fb8a18ce1cb",
   "metadata": {},
   "outputs": [
    {
     "ename": "NameError",
     "evalue": "name 'gen_ai_index' is not defined",
     "output_type": "error",
     "traceback": [
      "\u001b[0;31m---------------------------------------------------------------------------\u001b[0m",
      "\u001b[0;31mNameError\u001b[0m                                 Traceback (most recent call last)",
      "\u001b[0;32m/var/tmp/ipykernel_4032/1452458101.py\u001b[0m in \u001b[0;36m<module>\u001b[0;34m\u001b[0m\n\u001b[0;32m----> 1\u001b[0;31m \u001b[0mgen_ai_index\u001b[0m\u001b[0;34m.\u001b[0m\u001b[0mdelete\u001b[0m\u001b[0;34m(\u001b[0m\u001b[0;34m)\u001b[0m\u001b[0;34m\u001b[0m\u001b[0;34m\u001b[0m\u001b[0m\n\u001b[0m",
      "\u001b[0;31mNameError\u001b[0m: name 'gen_ai_index' is not defined"
     ]
    }
   ],
   "source": [
    "gen_ai_index.delete()"
   ]
  },
  {
   "cell_type": "code",
   "execution_count": null,
   "id": "59410b8e-b6ce-43f1-a4fe-7d6e83c35db0",
   "metadata": {},
   "outputs": [],
   "source": []
  }
 ],
 "metadata": {
  "environment": {
   "kernel": "python3",
   "name": "tf2-cpu.2-11.m112",
   "type": "gcloud",
   "uri": "gcr.io/deeplearning-platform-release/tf2-cpu.2-11:m112"
  },
  "kernelspec": {
   "display_name": "Python 3",
   "language": "python",
   "name": "python3"
  },
  "language_info": {
   "codemirror_mode": {
    "name": "ipython",
    "version": 3
   },
   "file_extension": ".py",
   "mimetype": "text/x-python",
   "name": "python",
   "nbconvert_exporter": "python",
   "pygments_lexer": "ipython3",
   "version": "3.7.12"
  }
 },
 "nbformat": 4,
 "nbformat_minor": 5
}
