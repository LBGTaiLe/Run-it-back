{
 "cells": [
  {
   "cell_type": "markdown",
   "id": "9dcb1bde-3ac1-42ba-ad90-bc93df01c0f8",
   "metadata": {},
   "source": [
    "# Embeddings - Vertex AI Vector Search\n",
    "\n",
    "### Semantic Search Using Embeddings and Vertex AI Vector Search (Formerly Matching Engine)\n",
    "\n",
    "- Semantic search is a type of search that uses the meaning of words and phrases to find relevant results.\n",
    "- In this tutorial, we will demonstrate how to do semantic search with embeddings generated from the news text using vector search`\n",
    "- Vertex AI Vector Search (formerly known as Matching Engine) is a vector database, which can find the most similar vectors from over a billion vectors. Matching Engine's ANN service can serve similarity-matching queries at high queries per second (QPS).\n",
    "\n",
    "This pattern is more appropriate for larger datasets and production deployments. For demonstrating the full workflow and explanation, a small dataset is pre-processed locally and uploaded to a storage bucket in this example. In a larger or production deployment, the embedding generation and storage can be done separately and Vector Search provides db update strategies as described later in this notebook."
   ]
  },
  {
   "cell_type": "markdown",
   "id": "fc3920ce-2421-4026-a142-db29cd968b83",
   "metadata": {},
   "source": [
    "## Install Vertex LLM SDK\n",
    "\n",
    "Install required libraries and initialises the Vertex AI SDK"
   ]
  },
  {
   "cell_type": "code",
   "execution_count": 4,
   "id": "484703ed-180e-4dfa-a59a-6845b36c809b",
   "metadata": {},
   "outputs": [
    {
     "name": "stdout",
     "output_type": "stream",
     "text": [
      "Requirement already satisfied: google-cloud-aiplatform>=1.25 in /opt/conda/lib/python3.7/site-packages (1.33.1)\n",
      "Requirement already satisfied: shapely<2.0.0 in /opt/conda/lib/python3.7/site-packages (1.8.5.post1)\n",
      "Requirement already satisfied: google-api-core[grpc]!=2.0.*,!=2.1.*,!=2.2.*,!=2.3.*,!=2.4.*,!=2.5.*,!=2.6.*,!=2.7.*,<3.0.0dev,>=1.32.0 in /opt/conda/lib/python3.7/site-packages (from google-cloud-aiplatform>=1.25) (1.34.0)\n",
      "Requirement already satisfied: proto-plus<2.0.0dev,>=1.22.0 in /opt/conda/lib/python3.7/site-packages (from google-cloud-aiplatform>=1.25) (1.22.3)\n",
      "Requirement already satisfied: protobuf!=3.20.0,!=3.20.1,!=4.21.0,!=4.21.1,!=4.21.2,!=4.21.3,!=4.21.4,!=4.21.5,<5.0.0dev,>=3.19.5 in /opt/conda/lib/python3.7/site-packages (from google-cloud-aiplatform>=1.25) (3.19.6)\n",
      "Requirement already satisfied: packaging>=14.3 in /opt/conda/lib/python3.7/site-packages (from google-cloud-aiplatform>=1.25) (23.1)\n",
      "Requirement already satisfied: google-cloud-storage<3.0.0dev,>=1.32.0 in /opt/conda/lib/python3.7/site-packages (from google-cloud-aiplatform>=1.25) (2.11.0)\n",
      "Requirement already satisfied: google-cloud-bigquery<4.0.0dev,>=1.15.0 in /opt/conda/lib/python3.7/site-packages (from google-cloud-aiplatform>=1.25) (3.11.4)\n",
      "Requirement already satisfied: google-cloud-resource-manager<3.0.0dev,>=1.3.3 in /opt/conda/lib/python3.7/site-packages (from google-cloud-aiplatform>=1.25) (1.10.4)\n",
      "Requirement already satisfied: googleapis-common-protos<2.0dev,>=1.56.2 in /opt/conda/lib/python3.7/site-packages (from google-api-core[grpc]!=2.0.*,!=2.1.*,!=2.2.*,!=2.3.*,!=2.4.*,!=2.5.*,!=2.6.*,!=2.7.*,<3.0.0dev,>=1.32.0->google-cloud-aiplatform>=1.25) (1.56.4)\n",
      "Requirement already satisfied: google-auth<3.0dev,>=1.25.0 in /opt/conda/lib/python3.7/site-packages (from google-api-core[grpc]!=2.0.*,!=2.1.*,!=2.2.*,!=2.3.*,!=2.4.*,!=2.5.*,!=2.6.*,!=2.7.*,<3.0.0dev,>=1.32.0->google-cloud-aiplatform>=1.25) (2.23.0)\n",
      "Requirement already satisfied: requests<3.0.0dev,>=2.18.0 in /opt/conda/lib/python3.7/site-packages (from google-api-core[grpc]!=2.0.*,!=2.1.*,!=2.2.*,!=2.3.*,!=2.4.*,!=2.5.*,!=2.6.*,!=2.7.*,<3.0.0dev,>=1.32.0->google-cloud-aiplatform>=1.25) (2.31.0)\n",
      "Requirement already satisfied: grpcio<2.0dev,>=1.33.2 in /opt/conda/lib/python3.7/site-packages (from google-api-core[grpc]!=2.0.*,!=2.1.*,!=2.2.*,!=2.3.*,!=2.4.*,!=2.5.*,!=2.6.*,!=2.7.*,<3.0.0dev,>=1.32.0->google-cloud-aiplatform>=1.25) (1.48.1)\n",
      "Requirement already satisfied: grpcio-status<2.0dev,>=1.33.2 in /opt/conda/lib/python3.7/site-packages (from google-api-core[grpc]!=2.0.*,!=2.1.*,!=2.2.*,!=2.3.*,!=2.4.*,!=2.5.*,!=2.6.*,!=2.7.*,<3.0.0dev,>=1.32.0->google-cloud-aiplatform>=1.25) (1.48.1)\n",
      "Requirement already satisfied: google-cloud-core<3.0.0dev,>=1.6.0 in /opt/conda/lib/python3.7/site-packages (from google-cloud-bigquery<4.0.0dev,>=1.15.0->google-cloud-aiplatform>=1.25) (2.3.3)\n",
      "Requirement already satisfied: google-resumable-media<3.0dev,>=0.6.0 in /opt/conda/lib/python3.7/site-packages (from google-cloud-bigquery<4.0.0dev,>=1.15.0->google-cloud-aiplatform>=1.25) (2.6.0)\n",
      "Requirement already satisfied: python-dateutil<3.0dev,>=2.7.2 in /opt/conda/lib/python3.7/site-packages (from google-cloud-bigquery<4.0.0dev,>=1.15.0->google-cloud-aiplatform>=1.25) (2.8.2)\n",
      "Requirement already satisfied: grpc-google-iam-v1<1.0.0dev,>=0.12.4 in /opt/conda/lib/python3.7/site-packages (from google-cloud-resource-manager<3.0.0dev,>=1.3.3->google-cloud-aiplatform>=1.25) (0.12.6)\n",
      "Requirement already satisfied: cachetools<6.0,>=2.0.0 in /opt/conda/lib/python3.7/site-packages (from google-auth<3.0dev,>=1.25.0->google-api-core[grpc]!=2.0.*,!=2.1.*,!=2.2.*,!=2.3.*,!=2.4.*,!=2.5.*,!=2.6.*,!=2.7.*,<3.0.0dev,>=1.32.0->google-cloud-aiplatform>=1.25) (4.2.4)\n",
      "Requirement already satisfied: pyasn1-modules>=0.2.1 in /opt/conda/lib/python3.7/site-packages (from google-auth<3.0dev,>=1.25.0->google-api-core[grpc]!=2.0.*,!=2.1.*,!=2.2.*,!=2.3.*,!=2.4.*,!=2.5.*,!=2.6.*,!=2.7.*,<3.0.0dev,>=1.32.0->google-cloud-aiplatform>=1.25) (0.3.0)\n",
      "Requirement already satisfied: rsa<5,>=3.1.4 in /opt/conda/lib/python3.7/site-packages (from google-auth<3.0dev,>=1.25.0->google-api-core[grpc]!=2.0.*,!=2.1.*,!=2.2.*,!=2.3.*,!=2.4.*,!=2.5.*,!=2.6.*,!=2.7.*,<3.0.0dev,>=1.32.0->google-cloud-aiplatform>=1.25) (4.9)\n",
      "Requirement already satisfied: urllib3<2.0 in /opt/conda/lib/python3.7/site-packages (from google-auth<3.0dev,>=1.25.0->google-api-core[grpc]!=2.0.*,!=2.1.*,!=2.2.*,!=2.3.*,!=2.4.*,!=2.5.*,!=2.6.*,!=2.7.*,<3.0.0dev,>=1.32.0->google-cloud-aiplatform>=1.25) (1.26.16)\n",
      "Requirement already satisfied: google-crc32c<2.0dev,>=1.0 in /opt/conda/lib/python3.7/site-packages (from google-resumable-media<3.0dev,>=0.6.0->google-cloud-bigquery<4.0.0dev,>=1.15.0->google-cloud-aiplatform>=1.25) (1.5.0)\n",
      "Requirement already satisfied: six>=1.5.2 in /opt/conda/lib/python3.7/site-packages (from grpcio<2.0dev,>=1.33.2->google-api-core[grpc]!=2.0.*,!=2.1.*,!=2.2.*,!=2.3.*,!=2.4.*,!=2.5.*,!=2.6.*,!=2.7.*,<3.0.0dev,>=1.32.0->google-cloud-aiplatform>=1.25) (1.16.0)\n",
      "Requirement already satisfied: charset-normalizer<4,>=2 in /opt/conda/lib/python3.7/site-packages (from requests<3.0.0dev,>=2.18.0->google-api-core[grpc]!=2.0.*,!=2.1.*,!=2.2.*,!=2.3.*,!=2.4.*,!=2.5.*,!=2.6.*,!=2.7.*,<3.0.0dev,>=1.32.0->google-cloud-aiplatform>=1.25) (2.1.1)\n",
      "Requirement already satisfied: idna<4,>=2.5 in /opt/conda/lib/python3.7/site-packages (from requests<3.0.0dev,>=2.18.0->google-api-core[grpc]!=2.0.*,!=2.1.*,!=2.2.*,!=2.3.*,!=2.4.*,!=2.5.*,!=2.6.*,!=2.7.*,<3.0.0dev,>=1.32.0->google-cloud-aiplatform>=1.25) (3.4)\n",
      "Requirement already satisfied: certifi>=2017.4.17 in /opt/conda/lib/python3.7/site-packages (from requests<3.0.0dev,>=2.18.0->google-api-core[grpc]!=2.0.*,!=2.1.*,!=2.2.*,!=2.3.*,!=2.4.*,!=2.5.*,!=2.6.*,!=2.7.*,<3.0.0dev,>=1.32.0->google-cloud-aiplatform>=1.25) (2023.7.22)\n",
      "Requirement already satisfied: pyasn1<0.6.0,>=0.4.6 in /opt/conda/lib/python3.7/site-packages (from pyasn1-modules>=0.2.1->google-auth<3.0dev,>=1.25.0->google-api-core[grpc]!=2.0.*,!=2.1.*,!=2.2.*,!=2.3.*,!=2.4.*,!=2.5.*,!=2.6.*,!=2.7.*,<3.0.0dev,>=1.32.0->google-cloud-aiplatform>=1.25) (0.5.0)\n"
     ]
    }
   ],
   "source": [
    "# Install Required Libraries\n",
    "!pip3 install \"google-cloud-aiplatform>=1.25\" \"shapely<2.0.0\""
   ]
  },
  {
   "cell_type": "code",
   "execution_count": 1,
   "id": "cb177979-b284-456a-ba78-6a8c3e3870bd",
   "metadata": {},
   "outputs": [
    {
     "name": "stderr",
     "output_type": "stream",
     "text": [
      "2023-12-01 11:41:12.500973: I tensorflow/core/platform/cpu_feature_guard.cc:193] This TensorFlow binary is optimized with oneAPI Deep Neural Network Library (oneDNN) to use the following CPU instructions in performance-critical operations:  AVX2 FMA\n",
      "To enable them in other operations, rebuild TensorFlow with the appropriate compiler flags.\n",
      "2023-12-01 11:41:16.662768: W tensorflow/compiler/xla/stream_executor/platform/default/dso_loader.cc:64] Could not load dynamic library 'libnvinfer.so.7'; dlerror: libnvinfer.so.7: cannot open shared object file: No such file or directory; LD_LIBRARY_PATH: /usr/local/cuda/lib64:/usr/local/nccl2/lib:/usr/local/cuda/extras/CUPTI/lib64\n",
      "2023-12-01 11:41:16.664687: W tensorflow/compiler/xla/stream_executor/platform/default/dso_loader.cc:64] Could not load dynamic library 'libnvinfer_plugin.so.7'; dlerror: libnvinfer_plugin.so.7: cannot open shared object file: No such file or directory; LD_LIBRARY_PATH: /usr/local/cuda/lib64:/usr/local/nccl2/lib:/usr/local/cuda/extras/CUPTI/lib64\n",
      "2023-12-01 11:41:16.664721: W tensorflow/compiler/tf2tensorrt/utils/py_utils.cc:38] TF-TRT Warning: Cannot dlopen some TensorRT libraries. If you would like to use Nvidia GPU with TensorRT, please make sure the missing libraries mentioned above are installed properly.\n"
     ]
    }
   ],
   "source": [
    "# Import Vertex AI SDK\n",
    "PROJECT_ID = !gcloud config get project\n",
    "PROJECT_ID = PROJECT_ID.n\n",
    "LOCATION = \"europe-west2\"\n",
    "LOCATION_DEPLOY = \"europe-west2\" #Location to deploy GCP resources\n",
    "\n",
    "import vertexai\n",
    "from google.cloud import aiplatform\n",
    "\n",
    "vertexai.init(project=PROJECT_ID, location=LOCATION)"
   ]
  },
  {
   "cell_type": "markdown",
   "id": "dec92d49-de0b-47c4-9071-aa74c2d8c062",
   "metadata": {},
   "source": [
    "## Import TextEmbeddingModel\n",
    "\n",
    "**Available models as of Sep 2023:**\n",
    "| Models | Description\n",
    "| :- | :- |\n",
    "| textembedding-gecko@001 | stable |\n",
    "| textembedding-gecko@latest | public preview: an embeddings model with enhanced AI quality |\n",
    "| textembedding-gecko-multilingual@latest | public preview: an embeddings model designed to use a wide range of non-English languages. |\n",
    "\n",
    "\n",
    "Further documentation on available models can be found here: https://cloud.google.com/vertex-ai/docs/generative-ai/embeddings/get-text-embeddings#generative-ai-get-text-embedding-python"
   ]
  },
  {
   "cell_type": "code",
   "execution_count": 2,
   "id": "bcb9c36d-f0a3-47d2-9ed5-bc99fad4c23c",
   "metadata": {},
   "outputs": [],
   "source": [
    "from vertexai.preview.language_models import TextEmbeddingModel\n",
    "\n",
    "model = TextEmbeddingModel.from_pretrained(\"textembedding-gecko@001\")"
   ]
  },
  {
   "cell_type": "markdown",
   "id": "6b997769-ceaf-4837-afe6-fffae3e4d8ab",
   "metadata": {},
   "source": [
    "## Import Required Packages\n",
    "\n",
    "Outputs with regard to Tensorflow can be ignored as this is caused by this notebook being CPU only, a GPU is not required for this demonstration.\n"
   ]
  },
  {
   "cell_type": "code",
   "execution_count": 4,
   "id": "51e7ebba-ad16-43db-a36d-30cecd8d1316",
   "metadata": {},
   "outputs": [],
   "source": [
    "import json\n",
    "import time\n",
    "\n",
    "import numpy as np\n",
    "import pandas as pd"
   ]
  },
  {
   "cell_type": "markdown",
   "id": "47573a7f-5af5-4163-af8f-4a7462ed14a1",
   "metadata": {},
   "source": [
    "## Create Embedding Dataset.\n",
    "\n",
    "The dataset is solely to demonstrate the use of the Text Embedding API with a vector database. It is not intended to be used for any other purpose, such as evaluating models. The dataset is small and does not represent a comprehensive sample of all possible text.\n",
    "\n",
    "The following command copies the data json file from a google storage bucket, the data is stored locally within the notebook for use. "
   ]
  },
  {
   "cell_type": "code",
   "execution_count": 10,
   "id": "ec12607e-a969-44a9-a486-db32303dfa09",
   "metadata": {},
   "outputs": [
    {
     "name": "stdout",
     "output_type": "stream",
     "text": [
      "Copying gs://gen-ai-playpen-8d8611-bucket/embeddings/data/google_embeddings_dataset.jsonl...\n",
      "/ [1 files][ 14.1 KiB/ 14.1 KiB]                                                \n",
      "Operation completed over 1 objects/14.1 KiB.                                     \n"
     ]
    }
   ],
   "source": [
    "!mkdir -p datasets\n",
    "!gsutil cp gs://gen-ai-{PROJECT_ID}-bucket/embeddings/data/google_embeddings_dataset.jsonl ./datasets"
   ]
  },
  {
   "cell_type": "markdown",
   "id": "b676dbc8-7865-41dc-b45f-c5c75cff1f4f",
   "metadata": {
    "tags": []
   },
   "source": [
    "### Load data.json as a python list"
   ]
  },
  {
   "cell_type": "code",
   "execution_count": 16,
   "id": "d229a49b-8cd3-4e77-a34e-abb269a2f8a8",
   "metadata": {},
   "outputs": [],
   "source": [
    "records = []\n",
    "with open(\"../userguides/datasets/google_embeddings_dataset.jsonl\") as f:\n",
    "    for line in f:\n",
    "        record = json.loads(line)\n",
    "        records.append(record)"
   ]
  },
  {
   "cell_type": "markdown",
   "id": "f1c2781e-3d95-44b4-9745-63366fcef6b6",
   "metadata": {},
   "source": [
    "### Peek at the data"
   ]
  },
  {
   "cell_type": "code",
   "execution_count": 5,
   "id": "abcd3dbc-cece-4b58-8aa7-c599024acf56",
   "metadata": {
    "tags": []
   },
   "outputs": [
    {
     "data": {
      "text/html": [
       "<div>\n",
       "<style scoped>\n",
       "    .dataframe tbody tr th:only-of-type {\n",
       "        vertical-align: middle;\n",
       "    }\n",
       "\n",
       "    .dataframe tbody tr th {\n",
       "        vertical-align: top;\n",
       "    }\n",
       "\n",
       "    .dataframe thead th {\n",
       "        text-align: right;\n",
       "    }\n",
       "</style>\n",
       "<table border=\"1\" class=\"dataframe\">\n",
       "  <thead>\n",
       "    <tr style=\"text-align: right;\">\n",
       "      <th></th>\n",
       "      <th>file_name</th>\n",
       "      <th>text</th>\n",
       "    </tr>\n",
       "  </thead>\n",
       "  <tbody>\n",
       "    <tr>\n",
       "      <th>0</th>\n",
       "      <td>find-iban-bic.txt</td>\n",
       "      <td>Find your IBAN and BICIBAN is your Internation...</td>\n",
       "    </tr>\n",
       "    <tr>\n",
       "      <th>1</th>\n",
       "      <td>cbo-system-compatibility.txt</td>\n",
       "      <td>Software you should use with Commercial Bankin...</td>\n",
       "    </tr>\n",
       "    <tr>\n",
       "      <th>2</th>\n",
       "      <td>transaction-not-recognised.txt</td>\n",
       "      <td>Find out more about a transactionIf you don’t ...</td>\n",
       "    </tr>\n",
       "    <tr>\n",
       "      <th>3</th>\n",
       "      <td>ob-card-reader-not-working.txt</td>\n",
       "      <td>My Online for Business card reader isn’t worki...</td>\n",
       "    </tr>\n",
       "    <tr>\n",
       "      <th>4</th>\n",
       "      <td>cbo-account-suspended.txt</td>\n",
       "      <td>My Commercial Banking Online access has been s...</td>\n",
       "    </tr>\n",
       "  </tbody>\n",
       "</table>\n",
       "</div>"
      ],
      "text/plain": [
       "                        file_name  \\\n",
       "0               find-iban-bic.txt   \n",
       "1    cbo-system-compatibility.txt   \n",
       "2  transaction-not-recognised.txt   \n",
       "3  ob-card-reader-not-working.txt   \n",
       "4       cbo-account-suspended.txt   \n",
       "\n",
       "                                                text  \n",
       "0  Find your IBAN and BICIBAN is your Internation...  \n",
       "1  Software you should use with Commercial Bankin...  \n",
       "2  Find out more about a transactionIf you don’t ...  \n",
       "3  My Online for Business card reader isn’t worki...  \n",
       "4  My Commercial Banking Online access has been s...  "
      ]
     },
     "execution_count": 5,
     "metadata": {},
     "output_type": "execute_result"
    }
   ],
   "source": [
    "df = pd.read_csv('text_data.csv')\n",
    "df.head(5)"
   ]
  },
  {
   "cell_type": "code",
   "execution_count": 11,
   "id": "8e19d81c-a106-4ced-b54f-e8288bacb41e",
   "metadata": {},
   "outputs": [
    {
     "name": "stdout",
     "output_type": "stream",
     "text": [
      "/home/jupyter/help_guide\n"
     ]
    }
   ],
   "source": [
    "cd ../help_guide"
   ]
  },
  {
   "cell_type": "markdown",
   "id": "dd147c2f-6653-48c2-ad64-df8255b2aba0",
   "metadata": {},
   "source": [
    "### Get embeddings from the Google Embedding Model\n",
    "\n",
    "The following code sends a request to the embedding model api to get the embedding vector for each entry in the dataset and stores it in a Python DataFrame.\n",
    "\n",
    "The number of dimensions of the embedding vectors is 768 for the text-embedding gecko model."
   ]
  },
  {
   "cell_type": "code",
   "execution_count": 6,
   "id": "4f732506-1c2a-4117-a9b6-132e49ecc601",
   "metadata": {},
   "outputs": [],
   "source": [
    "def get_embedding(text):\n",
    "    get_embedding.counter += 1\n",
    "    try:\n",
    "        if get_embedding.counter % 100 == 0:\n",
    "            time.sleep(3)\n",
    "        return model.get_embeddings([text])[0].values #Send request to embedding model\n",
    "    except:\n",
    "        return []\n",
    "\n",
    "\n",
    "get_embedding.counter = 0\n",
    "\n",
    "# This may take several minutes to complete.\n",
    "df[\"embedding\"] = df[\"text\"].apply(lambda x: get_embedding(x))\n",
    "\n",
    "# Convert the embeddings into a Python list \n",
    "embeddings_list = df['embedding'].values.tolist()"
   ]
  },
  {
   "cell_type": "markdown",
   "id": "705fd1ff-4a74-4fa9-a8cf-9661608cf816",
   "metadata": {},
   "source": [
    "## Using Vertex AI Vector Search Approximate Nearest Neighbour (ANN) Service\n",
    "\n",
    "Vertex AI Vector Search (formerly known as Matching Engine) is a vector database, which can find the most similar vectors from over a billion vectors. Matching Engine's ANN service can serve similarity-matching queries at high queries per second (QPS).\n",
    "\n",
    "Further Details and Documentation: https://cloud.google.com/vertex-ai/docs/matching-engine/ann-service-overview\n",
    "\n",
    "**Terminology**\n",
    "- **Index:** A collection of vectors deployed together for similarity search. Vectors can be added to an index or removed from an index. Similarity search queries are issued to a specific index and will search over the vectors in that index.\n",
    "- **Recall:** The percentage of true nearest neighbors returned by the index. For example, if a nearest neighbor query for 20 nearest neighbors returned 19 of the \"ground truth\" nearest neighbors, the recall is 19/20x100 = 95%.\n",
    "- **Restricts:** Functionality to \"restrict\" searches to a subset of the index by using Boolean rules."
   ]
  },
  {
   "cell_type": "markdown",
   "id": "23c542d5-3021-4f24-9b39-9bd7b5e6163f",
   "metadata": {},
   "source": [
    "### Generate Embedding File\n",
    "\n",
    "\n",
    "This function converts the embedding and saves it into a json file format usable with matching engine in the following format. \n",
    "- Encode the file using UTF-8.\n",
    "- Make each line a valid JSON object to be interpreted as a record.\n",
    "- Include in each record a field named id that requires a valid UTF-8 string that is the ID of the vector.\n",
    "- Include in each record a field named embedding that requires an array of numbers. This is the feature vector.\n",
    "\n",
    "Other file formats can be found here: https://cloud.google.com/vertex-ai/docs/matching-engine/match-eng-setup/format-structure#json"
   ]
  },
  {
   "cell_type": "code",
   "execution_count": 9,
   "id": "bba45144-ba7e-4b76-a13c-26cae65f6ab5",
   "metadata": {},
   "outputs": [],
   "source": [
    "with open(\"datasets/vector_search_dataset.json\", \"w\") as f:\n",
    "    for i in range(len(embeddings_list)):\n",
    "        f.write('{\"id\":\"' + str(i) + '\",')\n",
    "        f.write('\"embedding\":[' + \",\".join(str(x) for x in embeddings_list[i]) + \"]}\")\n",
    "        f.write(\"\\n\")"
   ]
  },
  {
   "cell_type": "markdown",
   "id": "e04efd0b-245a-4f3c-90b2-6443c235f4b4",
   "metadata": {},
   "source": [
    "### Copy Dataset to Storage Bucket\n",
    "The following command copies the data file to a cloud storage bucket. Folder structure documentation: https://cloud.google.com/vertex-ai/docs/matching-engine/match-eng-setup/format-structure#input_directory_structure\n",
    "\n",
    "Supported Update Methods:\n",
    "- **Batch:** To update the content of an existing Index, use the IndexService.UpdateIndex method.\n",
    "- **Streaming:** With Streaming Updates, you can update and query your index within a few seconds. At this time, you can't use Streaming Updates on an existing index, you must create a new index.\n",
    "\n",
    "Documentation: https://cloud.google.com/vertex-ai/docs/matching-engine/update-rebuild-index#update_index_content_with_batch_updates"
   ]
  },
  {
   "cell_type": "code",
   "execution_count": 13,
   "id": "bd50467c-d690-4e12-85eb-644aa87dc125",
   "metadata": {},
   "outputs": [
    {
     "name": "stdout",
     "output_type": "stream",
     "text": [
      "Copying file://datasets/vector_search_dataset.json [Content-Type=application/json]...\n",
      "/ [1 files][  1.0 MiB/  1.0 MiB]                                                \n",
      "Operation completed over 1 objects/1.0 MiB.                                      \n"
     ]
    }
   ],
   "source": [
    "!mkdir -p datasets\n",
    "!gsutil copy datasets/vector_search_dataset.json gs://gen-ai-{PROJECT_ID}-bucket/embeddings/vs_root/vector_search_dataset.json"
   ]
  },
  {
   "cell_type": "markdown",
   "id": "026abd3e-27e5-4df2-b23a-d2625eda989e",
   "metadata": {},
   "source": [
    "### Create an Index\n",
    "\n",
    "Details on configuration parameters can be found here: https://cloud.google.com/vertex-ai/docs/matching-engine/configuring-indexes\n",
    "\n",
    "**It can take up to 30 minutes to deploy.**\n"
   ]
  },
  {
   "cell_type": "code",
   "execution_count": 14,
   "id": "d9a65998-92a3-4d9c-b729-92f44352a86a",
   "metadata": {},
   "outputs": [
    {
     "name": "stdout",
     "output_type": "stream",
     "text": [
      "Creating MatchingEngineIndex\n",
      "Create MatchingEngineIndex backing LRO: projects/336030387678/locations/europe-west2/indexes/2680908415680643072/operations/3653632059122909184\n",
      "MatchingEngineIndex created. Resource name: projects/336030387678/locations/europe-west2/indexes/2680908415680643072\n",
      "To use this MatchingEngineIndex in another session:\n",
      "index = aiplatform.MatchingEngineIndex('projects/336030387678/locations/europe-west2/indexes/2680908415680643072')\n"
     ]
    }
   ],
   "source": [
    "DIMENSIONS = 768\n",
    "GS_URI = \"gs://gen-ai-%s-bucket/embeddings/vs_root/\" % PROJECT_ID\n",
    "\n",
    "gen_ai_index = aiplatform.MatchingEngineIndex.create_tree_ah_index(\n",
    "    display_name=\"Gen AI Index\",\n",
    "    contents_delta_uri=GS_URI,\n",
    "    dimensions=DIMENSIONS,\n",
    "    approximate_neighbors_count=5,\n",
    "    distance_measure_type=\"DOT_PRODUCT_DISTANCE\",\n",
    "    leaf_node_embedding_count=10,\n",
    "    leaf_nodes_to_search_percent=80,\n",
    "    description=\"Example Index for Gen AI Playpen\",\n",
    "    location=LOCATION_DEPLOY\n",
    ")"
   ]
  },
  {
   "cell_type": "markdown",
   "id": "90580dc3-0ea9-490a-8dd9-bae9d6eb1d0f",
   "metadata": {},
   "source": [
    "### Create an Index Endpoint\n",
    "\n",
    "The following function is used to create an index endpoint, this allows for queries to be sent to the index"
   ]
  },
  {
   "cell_type": "code",
   "execution_count": 15,
   "id": "879730f0-08e1-43cb-8e9d-84ed5ed21eb6",
   "metadata": {},
   "outputs": [
    {
     "name": "stdout",
     "output_type": "stream",
     "text": [
      "Creating MatchingEngineIndexEndpoint\n",
      "Create MatchingEngineIndexEndpoint backing LRO: projects/336030387678/locations/europe-west2/indexEndpoints/5891412000042385408/operations/4338179202483224576\n",
      "MatchingEngineIndexEndpoint created. Resource name: projects/336030387678/locations/europe-west2/indexEndpoints/5891412000042385408\n",
      "To use this MatchingEngineIndexEndpoint in another session:\n",
      "index_endpoint = aiplatform.MatchingEngineIndexEndpoint('projects/336030387678/locations/europe-west2/indexEndpoints/5891412000042385408')\n"
     ]
    }
   ],
   "source": [
    "gen_ai_index_endpoint = aiplatform.MatchingEngineIndexEndpoint.create(\n",
    "    display_name=\"Gen AI Index Endpoint\",\n",
    "    description=\"Example Index for Gen AI Playpen\",\n",
    "    public_endpoint_enabled=True,\n",
    "    location=LOCATION_DEPLOY\n",
    ")"
   ]
  },
  {
   "cell_type": "markdown",
   "id": "9c676aad-7a40-4eda-a707-b05826116648",
   "metadata": {},
   "source": [
    "### Deploy the Index to the Index-Endpoint"
   ]
  },
  {
   "cell_type": "code",
   "execution_count": 16,
   "id": "fbb12ba9-daec-4447-bbc4-5f515eeed6de",
   "metadata": {},
   "outputs": [
    {
     "name": "stdout",
     "output_type": "stream",
     "text": [
      "Deploying index MatchingEngineIndexEndpoint index_endpoint: projects/336030387678/locations/europe-west2/indexEndpoints/5891412000042385408\n",
      "Deploy index MatchingEngineIndexEndpoint index_endpoint backing LRO: projects/336030387678/locations/europe-west2/indexEndpoints/5891412000042385408/operations/8949865220910612480\n",
      "MatchingEngineIndexEndpoint index_endpoint Deployed index. Resource name: projects/336030387678/locations/europe-west2/indexEndpoints/5891412000042385408\n"
     ]
    },
    {
     "data": {
      "text/plain": [
       "[id: \"gen_ai_deployed_index\"\n",
       "index: \"projects/336030387678/locations/europe-west2/indexes/2680908415680643072\"\n",
       "create_time {\n",
       "  seconds: 1701432906\n",
       "  nanos: 411749000\n",
       "}\n",
       "index_sync_time {\n",
       "  seconds: 1701434307\n",
       "  nanos: 405604000\n",
       "}\n",
       "deployment_group: \"default\"\n",
       "dedicated_resources {\n",
       "  machine_spec {\n",
       "    machine_type: \"e2-standard-16\"\n",
       "  }\n",
       "  min_replica_count: 1\n",
       "  max_replica_count: 1\n",
       "}\n",
       "]"
      ]
     },
     "execution_count": 16,
     "metadata": {},
     "output_type": "execute_result"
    }
   ],
   "source": [
    "gen_ai_index_endpoint = gen_ai_index_endpoint.deploy_index(\n",
    "    index=gen_ai_index, deployed_index_id=\"gen_ai_deployed_index\",\n",
    "    machine_type=\"e2-standard-16\",\n",
    "    min_replica_count=1,\n",
    "    max_replica_count=1\n",
    ")\n",
    "\n",
    "gen_ai_index_endpoint.deployed_indexes"
   ]
  },
  {
   "cell_type": "markdown",
   "id": "7c846460-0cdb-4450-890e-0750be664d72",
   "metadata": {},
   "source": [
    "### Additional Functions:\n",
    "Uncomment, replace the relevant project, region and ids to retrieve indexes and index endpoints. The ids can be found on the cloud console under Vertex AI and Vector Search on the left bar. This is useful as obtaining the index objects allow for functions on them (such as delete or query) if the notebook kernels etc. have been reset."
   ]
  },
  {
   "cell_type": "code",
   "execution_count": 18,
   "id": "ed7f36ad-baf8-4840-b54f-4f3ad6ac483d",
   "metadata": {},
   "outputs": [],
   "source": [
    "gen_ai_index_endpoint = aiplatform.MatchingEngineIndexEndpoint(\n",
    "    index_endpoint_name=\"projects/playpen-8d8611/locations/europe-west2/indexEndpoints/5891412000042385408\"\n",
    ")\n",
    "\n",
    "gen_ai_index = aiplatform.MatchingEngineIndex(\n",
    "    index_name=\"projects/playpen-8d8611/locations/europe-west2/indexes/2680908415680643072\"\n",
    ")"
   ]
  },
  {
   "cell_type": "markdown",
   "id": "887be221-5fb5-4c63-8cff-015ea87337ee",
   "metadata": {
    "tags": []
   },
   "source": [
    "### Create Online Queries\n",
    "\n",
    "Pre-define function that generates an embedding for an input prompt using the embeddings-gecko model and performs a search."
   ]
  },
  {
   "cell_type": "code",
   "execution_count": 19,
   "id": "671ba8a5-b52f-4f94-9763-436714450fda",
   "metadata": {},
   "outputs": [],
   "source": [
    "NUM_NEIGHBOURS = 3 #Number of neighbours from query\n",
    "\n",
    "def search(input):\n",
    "    embedding_vec =  model.get_embeddings([input])[0].values #Send request to embedding model to generate the embedding vector\n",
    "    \n",
    "    #find neighbours using vector search\n",
    "    neighbours = gen_ai_index_endpoint.find_neighbors(\n",
    "        deployed_index_id=\"gen_ai_deployed_index\",\n",
    "        queries=[embedding_vec],\n",
    "        num_neighbors=NUM_NEIGHBOURS,\n",
    "    )[0]\n",
    "    \n",
    "    for nb in neighbours:\n",
    "        print(\"id: \" + nb.id + \" | text: \" + df.iloc[int(nb.id)][\"text\"] + \" | dist: \" + str(nb.distance)) "
   ]
  },
  {
   "cell_type": "markdown",
   "id": "54040490-9889-499d-94a6-83529908d956",
   "metadata": {},
   "source": [
    "### Example Queries\n",
    "\n",
    "If you face an openssl error, please wait up to 5 minutes for the endpoint to finish deploying."
   ]
  },
  {
   "cell_type": "code",
   "execution_count": 20,
   "id": "ebf879ce-1927-48f6-9b39-4da8947fca6d",
   "metadata": {},
   "outputs": [
    {
     "name": "stdout",
     "output_type": "stream",
     "text": [
      "id: 41 | text: Security & fraudLost or stolen cardsReport a lost or stolen Business CardReport a lost or stolen Business payment cardReport a lost or stolen Corporate CardReport a lost or stolen Corpoarate cardReport a fraudReport a fraud on our business accountsMake a complaintReport fraudulent use of online bankingStaying safeProtect your business from fraudManage the cyber threat to your business | dist: 0.7571377754211426\n",
      "id: 56 | text: Report a lost or stolen Corporate CardIf your Corporate Card has been lost, stolen or misused please call us right away. This applies to your PIN or security details too.Payment cards include:Corporate MultiPay cardCorporate Charge CardCorporate Purchasing CardBusiness Travel SolutionePay VirtualePayablesBy PhoneCall us anytime on 0800 096 4496If you're outside the UK call +44 1908 544 059.Was this helpful?YesNoNoReport a lost or stolen Corporate CardIf your Corporate Card has been lost, stolen or misused please call us right away. This applies to your PIN or security details too.Payment cards include:Corporate MultiPay cardCorporate Charge CardCorporate Purchasing CardBusiness Travel SolutionePay VirtualePayablesBy PhoneCall us anytime on 0800 096 4496If you're outside the UK call +44 1908 544 059.Was this helpful?YesNoNo | dist: 0.7313824892044067\n",
      "id: 53 | text: Report a lost or stolen Business CardIf your Business Card has been lost, stolen, misused or given to someone else, please call us right away.  This applies to your PIN or security details too.Payment cards include:Business Debit Card.Business Cashpoint® Card.Business Credit Card.Business Charge Card.By PhoneCall us anytime on 0800 096 9779.If you're outside the UK call +44 1702 278 270.Was this helpful?YesNoNoReport a lost or stolen Business CardIf your Business Card has been lost, stolen, misused or given to someone else, please call us right away.  This applies to your PIN or security details too.Payment cards include:Business Debit Card.Business Cashpoint® Card.Business Credit Card.Business Charge Card.By PhoneCall us anytime on 0800 096 9779.If you're outside the UK call +44 1702 278 270.Was this helpful?YesNoNoReport a lost or stolen Business CardIf your Business Card has been lost, stolen, misused or given to someone else, please call us right away.  This applies to your PIN or security details too.Payment cards include:Business Debit Card.Business Cashpoint® Card.Business Credit Card.Business Charge Card.By PhoneCall us anytime on 0800 096 9779.If you're outside the UK call +44 1702 278 270.Was this helpful?YesNoNo | dist: 0.7174344062805176\n"
     ]
    }
   ],
   "source": [
    "search(\"tell me about reporting stolen card\")"
   ]
  },
  {
   "cell_type": "code",
   "execution_count": 21,
   "id": "ed4eca81-cffa-4f5e-9851-780ecdc6ccf5",
   "metadata": {},
   "outputs": [
    {
     "name": "stdout",
     "output_type": "stream",
     "text": [
      "id: 33 | text: Log on to Online for Business – Memorable InformationLog on securely using three characters from your memorable information, or with your Card Reader. The easiest way to log on to Online for Business is to tell us you’re on a trusted device.This means we’ll usually only ask you for three characters from your memorable information, as well as your password, each time you log on.Sometimes we may ask you to use your Card Reader, so it’s a good idea to always have one to hand.How to logonMemorable informationTrusting your deviceUsing your Card ReaderHow to set up memorable informationTo set up memorable information please log on to your account and click on the ‘Settings’ section in the top right hand corner of your Online for Business homepage.Then click on ‘change memorable information’ and follow the instructions.When you log on to your account, you will be asked to enter your user ID and your password. You will then be given the option to use either your memorable information or card reader.If you choose memorable information, you will be asked to enter three characters e.g. the second, fourth and eighth character, to complete your log on.Sometimes we may ask you to use your Card Reader, so it’s a good idea to always have one to hand.Still need help?                                 expandable sectionCall usCall us on 0345 300 0116.We’re open 8am – 8pm, seven days a week.Not all Telephone Banking services are available 24 hours a day, seven days a week.Was this helpful?YesNoNo | dist: 0.6021758913993835\n",
      "id: 65 | text: Log on to Online for BusinessLog on securely using three characters from your memorable information, or with your Card Reader. The easiest way to log on to Online for Business is to tell us you’re on a trusted device.This means we’ll usually only ask you for three characters from your memorable information, as well as your password, each time you log on.Sometimes we may ask you to use your Card Reader, so it’s a good idea to always have one to hand.How to logonMemorable informationTrusting your deviceUsing your Card ReaderHow to logonMemorable informationTrusting your deviceUsing your Card ReaderHow to log onStep 1On the first page we’ll ask for your User ID and password. Enter these in the boxes.Step 2Next we’ll need 3 characters of your memorable information. The number above each box tells you which to enter.Sometimes we may also ask you to use your Card Reader, as an additional security step.Step 3You might be asked to trust your device. This is a security feature. You should do it if you’re going to log on often from here.All done!Now you’re through to your accounts.Still need help?                                 expandable sectionCall usCall us on 0345 300 0116.We’re open 8am – 8pm, seven days a week.Not all Telephone Banking services are available 24 hours a day, seven days a week.Was this helpful?YesNoStep 2Next we’ll need 3 characters of your memorable information. The number above each box tells you which to enter.Sometimes we may also ask you to use your Card Reader, as an additional security step.All done!Now you’re through to your accounts.NoLog on to Online for BusinessLog on securely using three characters from your memorable information, or with your Card Reader. The easiest way to log on to Online for Business is to tell us you’re on a trusted device.This means we’ll usually only ask you for three characters from your memorable information, as well as your password, each time you log on.Sometimes we may ask you to use your Card Reader, so it’s a good idea to always have one to hand.How to logonMemorable informationTrusting your deviceUsing your Card ReaderHow to logonMemorable informationTrusting your deviceUsing your Card ReaderHow to log onStep 1On the first page we’ll ask for your User ID and password. Enter these in the boxes.Step 2Next we’ll need 3 characters of your memorable information. The number above each box tells you which to enter.Sometimes we may also ask you to use your Card Reader, as an additional security step.Step 3You might be asked to trust your device. This is a security feature. You should do it if you’re going to log on often from here.All done!Now you’re through to your accounts.Still need help?                                 expandable sectionCall usCall us on 0345 300 0116.We’re open 8am – 8pm, seven days a week.Not all Telephone Banking services are available 24 hours a day, seven days a week.Was this helpful?YesNoStep 2Next we’ll need 3 characters of your memorable information. The number above each box tells you which to enter.Sometimes we may also ask you to use your Card Reader, as an additional security step.All done!Now you’re through to your accounts.No | dist: 0.5957742929458618\n",
      "id: 67 | text: Claim a Direct Debit refundYou might be able to claim a refund for a Direct Debit you haven’t authorised.You might be able to claim a refund when:You have not been told in advance about a change of amount or date.The wrong amount was taken from your account.The Direct Debit was taken earlier than the agreed date or in error.You will not be able to claim a refund when:You have not received the goods or services.You have returned the goods or services.You are in a dispute with the company.You don’t agree with the company's policies, practises or ethics.You forgot to cancel the Direct Debit. You paid on your debit card.Still need help?                                 expandable sectionTo get you to the right place, we just need to check a few details with you.Other ways to get in touchWas this helpful?YesNoNo | dist: 0.5908125638961792\n"
     ]
    }
   ],
   "source": [
    "search(\"tell me about an important moment or event in your life\")"
   ]
  },
  {
   "cell_type": "markdown",
   "id": "85b9abd4-ae9f-4eb4-a0b8-97575d670b5f",
   "metadata": {},
   "source": [
    "### Clean Up Resources"
   ]
  },
  {
   "cell_type": "code",
   "execution_count": null,
   "id": "59026bc8-9b3c-4bcd-b1f6-2f16de1e12c7",
   "metadata": {},
   "outputs": [],
   "source": [
    "gen_ai_index_endpoint.undeploy_all()\n",
    "gen_ai_index_endpoint.delete() #index endpoint"
   ]
  },
  {
   "cell_type": "code",
   "execution_count": null,
   "id": "615d189e-2066-4719-9d27-1fb8a18ce1cb",
   "metadata": {},
   "outputs": [],
   "source": [
    "gen_ai_index.delete()"
   ]
  }
 ],
 "metadata": {
  "environment": {
   "kernel": "python3",
   "name": "tf2-cpu.2-11.m112",
   "type": "gcloud",
   "uri": "gcr.io/deeplearning-platform-release/tf2-cpu.2-11:m112"
  },
  "kernelspec": {
   "display_name": "Python 3",
   "language": "python",
   "name": "python3"
  },
  "language_info": {
   "codemirror_mode": {
    "name": "ipython",
    "version": 3
   },
   "file_extension": ".py",
   "mimetype": "text/x-python",
   "name": "python",
   "nbconvert_exporter": "python",
   "pygments_lexer": "ipython3",
   "version": "3.7.12"
  }
 },
 "nbformat": 4,
 "nbformat_minor": 5
}
