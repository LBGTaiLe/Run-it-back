{
 "cells": [
  {
   "cell_type": "code",
   "execution_count": 1,
   "id": "55984b68-a0cd-4d7e-b3c0-9d5d3a274ea8",
   "metadata": {},
   "outputs": [
    {
     "name": "stderr",
     "output_type": "stream",
     "text": [
      "2023-12-01 15:27:55.698272: I tensorflow/core/platform/cpu_feature_guard.cc:193] This TensorFlow binary is optimized with oneAPI Deep Neural Network Library (oneDNN) to use the following CPU instructions in performance-critical operations:  AVX2 FMA\n",
      "To enable them in other operations, rebuild TensorFlow with the appropriate compiler flags.\n",
      "2023-12-01 15:28:00.130803: W tensorflow/compiler/xla/stream_executor/platform/default/dso_loader.cc:64] Could not load dynamic library 'libnvinfer.so.7'; dlerror: libnvinfer.so.7: cannot open shared object file: No such file or directory; LD_LIBRARY_PATH: /usr/local/cuda/lib64:/usr/local/nccl2/lib:/usr/local/cuda/extras/CUPTI/lib64\n",
      "2023-12-01 15:28:00.132612: W tensorflow/compiler/xla/stream_executor/platform/default/dso_loader.cc:64] Could not load dynamic library 'libnvinfer_plugin.so.7'; dlerror: libnvinfer_plugin.so.7: cannot open shared object file: No such file or directory; LD_LIBRARY_PATH: /usr/local/cuda/lib64:/usr/local/nccl2/lib:/usr/local/cuda/extras/CUPTI/lib64\n",
      "2023-12-01 15:28:00.132637: W tensorflow/compiler/tf2tensorrt/utils/py_utils.cc:38] TF-TRT Warning: Cannot dlopen some TensorRT libraries. If you would like to use Nvidia GPU with TensorRT, please make sure the missing libraries mentioned above are installed properly.\n"
     ]
    }
   ],
   "source": [
    "from vertexai.preview.language_models import ChatModel\n",
    "\n",
    "class PaLMWrapper:\n",
    "    def __init__(self):\n",
    "        self.chat_model = ChatModel.from_pretrained(\"chat-bison@001\")\n",
    "        self.parameters = {\n",
    "            \"temperature\": 0.2,\n",
    "            \"max_output_tokens\": 256,\n",
    "            \"top_p\": 0.95,\n",
    "        }\n",
    "    \n",
    "    def generate_response(self, context, message):\n",
    "        chat = self.chat_model.start_chat(context=context)\n",
    "        response = chat.send_message(message, **self.parameters)\n",
    "        return response.text"
   ]
  },
  {
   "cell_type": "code",
   "execution_count": 2,
   "id": "87611f14-b46d-468a-97f8-7c469b96b739",
   "metadata": {},
   "outputs": [
    {
     "data": {
      "text/plain": [
       "'The weather today in London is sunny with a high of 15 degrees Celsius.'"
      ]
     },
     "execution_count": 2,
     "metadata": {},
     "output_type": "execute_result"
    }
   ],
   "source": [
    "pw = PaLMWrapper()\n",
    "response = pw.generate_response(context='you are a london weather forecaster', message='whats the weather like today')\n",
    "response"
   ]
  },
  {
   "cell_type": "code",
   "execution_count": 3,
   "id": "df757677-25f2-437b-a38e-76deca85e834",
   "metadata": {},
   "outputs": [],
   "source": [
    "import pandas as pd\n",
    "\n",
    "import vertexai\n",
    "from vertexai.preview.language_models import TextEmbeddingModel\n",
    "from google.cloud import aiplatform\n",
    "\n",
    "class VertexAIVectorStore:\n",
    "    def __init__(self):\n",
    "        \n",
    "        # god awful way of doing it, should be a config and passed through but oh well hacky hack\n",
    "        self.gen_ai_index_endpoint = aiplatform.MatchingEngineIndexEndpoint(\n",
    "            index_endpoint_name=\"projects/playpen-8d8611/locations/europe-west2/indexEndpoints/5891412000042385408\"\n",
    "        )\n",
    "\n",
    "        self.gen_ai_index = aiplatform.MatchingEngineIndex(\n",
    "            index_name=\"projects/playpen-8d8611/locations/europe-west2/indexes/2680908415680643072\"\n",
    "        )\n",
    "        \n",
    "        self.model = TextEmbeddingModel.from_pretrained(\"textembedding-gecko@001\")\n",
    "        self.df = pd.read_csv('text_data_g_embedding.csv')\n",
    "        \n",
    "    def search(self, input, k=3):\n",
    "        embedding_vec =  self.model.get_embeddings([input])[0].values #Send request to embedding model to generate the embedding vector\n",
    "\n",
    "        #find neighbours using vector search\n",
    "        neighbours = self.gen_ai_index_endpoint.find_neighbors(\n",
    "            deployed_index_id=\"gen_ai_deployed_index\",\n",
    "            queries=[embedding_vec],\n",
    "            num_neighbors=k,\n",
    "        )[0]\n",
    "        \n",
    "        results = []\n",
    "        for nb in neighbours:\n",
    "            text_id = nb.id\n",
    "            text = self.df.iloc[int(nb.id)]['text']\n",
    "            score = nb.distance\n",
    "            results.append((text_id, text, score))\n",
    "        \n",
    "        return results\n"
   ]
  },
  {
   "cell_type": "code",
   "execution_count": 4,
   "id": "d8bf494d-8103-47d7-afa6-10555b5e422e",
   "metadata": {},
   "outputs": [
    {
     "data": {
      "text/plain": [
       "[('41',\n",
       "  'Security & fraudLost or stolen cardsReport a lost or stolen Business CardReport a lost or stolen Business payment cardReport a lost or stolen Corporate CardReport a lost or stolen Corpoarate cardReport a fraudReport a fraud on our business accountsMake a complaintReport fraudulent use of online bankingStaying safeProtect your business from fraudManage the cyber threat to your business',\n",
       "  0.7093294858932495),\n",
       " ('55',\n",
       "  \"Report\\xa0fraud on online business bankingCall us immediately\\xa0 if you think any of your Lloyds Business Bank accounts have been:accessed by a third party\\xa0ortargeted for\\xa0fraud.Please get in touch even if you haven't suffered any loss from the attempted fraud.This page is for business customersFind out how to report fraud if you’re a personal customerReport FraudBy PhoneOnline for Business\\xa00800 056 3099Commercial Banking Online\\xa00800 169 1296+44 1293 762 380 from abroad.\\xa0Lines are open 24 hours.You'll need to tell us the reason for your call so we can direct you to our fraud team.\\xa0Suspicious emailsRemember, we will never send you an email or a link to a website that asks you to enter your Internet Banking details. If you get anything like this, do not reply and forward it to our fraud team: emailscams@lloydsbank.co.ukWas this helpful?\\xa0YesNoNoReport\\xa0fraud on online business bankingCall us immediately\\xa0 if you think any of your Lloyds Business Bank accounts have been:accessed by a third party\\xa0ortargeted for\\xa0fraud.Please get in touch even if you haven't suffered any loss from the attempted fraud.This page is for business customersFind out how to report fraud if you’re a personal customerReport FraudBy PhoneOnline for Business\\xa00800 056 3099Commercial Banking Online\\xa00800 169 1296+44 1293 762 380 from abroad.\\xa0Lines are open 24 hours.You'll need to tell us the reason for your call so we can direct you to our fraud team.\\xa0Suspicious emailsRemember, we will never send you an email or a link to a website that asks you to enter your Internet Banking details. If you get anything like this, do not reply and forward it to our fraud team: emailscams@lloydsbank.co.ukWas this helpful?\\xa0YesNoNo\",\n",
       "  0.6592565178871155),\n",
       " ('37',\n",
       "  'Report fraud on your business accountsCall us immediately if you think any of your Lloyds Business Bank accounts have been:accessed by a third party ortargeted for fraud.Please get in touch even if you haven’t suffered any loss from the attempted fraud.information-iconThis page is for business customersFind out how to report fraud if you’re a personal customer.Report Fraudheadset-iconBy PhoneCall us anytime on\\xa00800 500 3920.You’ll need to tell us the reason for your call so we can direct you to our fraud team.Was this helpful?YesNoNoReport fraud on your business accountsCall us immediately if you think any of your Lloyds Business Bank accounts have been:accessed by a third party ortargeted for fraud.Please get in touch even if you haven’t suffered any loss from the attempted fraud.information-iconThis page is for business customersFind out how to report fraud if you’re a personal customer.Report Fraudheadset-iconBy PhoneCall us anytime on\\xa00800 500 3920.You’ll need to tell us the reason for your call so we can direct you to our fraud team.Was this helpful?YesNoNo',\n",
       "  0.6503989100456238)]"
      ]
     },
     "execution_count": 4,
     "metadata": {},
     "output_type": "execute_result"
    }
   ],
   "source": [
    "vai = VertexAIVectorStore()\n",
    "vector = vai.search(input='what is credit card fraud')\n",
    "vector"
   ]
  },
  {
   "cell_type": "code",
   "execution_count": 19,
   "id": "c3c06457-c547-443b-b4dc-863c1e882ac9",
   "metadata": {},
   "outputs": [],
   "source": [
    "# custom RAG anyone?\n",
    "\n",
    "class RAG:\n",
    "    def __init__(self, vector_store, palm_wrapper):\n",
    "        self.vector_store = vector_store\n",
    "        self.palm_wrapper = palm_wrapper\n",
    "        # at the request of mathew for memory\n",
    "        self.conversation_history = []\n",
    "    \n",
    "    def generate(self, query, k=3):\n",
    "        self.conversation_history.append(query)\n",
    "        \n",
    "        search_results = self.vector_store.search(query, k)\n",
    "        contexts = [result[1] for result in search_results]\n",
    "        \n",
    "        history_context = [resp for resp in self.conversation_history[-k:]]\n",
    "        combined_context = '\\n'.join(history_context + contexts)\n",
    "        response = self.palm_wrapper.generate_response(combined_context[:20000], query)\n",
    "        \n",
    "        self.conversation_history.append((query, response))\n",
    "        \n",
    "        sources = [(result[0]) for result in search_results]\n",
    "        \n",
    "        return response, sources"
   ]
  },
  {
   "cell_type": "code",
   "execution_count": 20,
   "id": "6f0915a2-848b-4b70-8b66-d7d53731c925",
   "metadata": {},
   "outputs": [
    {
     "name": "stdout",
     "output_type": "stream",
     "text": [
      "To change your business address, you can update it online or complete a form and send it to us.\n",
      "\n",
      "To update your address online, you must be a full access user and have your card reader ready to approve your changes.\n",
      "\n",
      "In Online for Business, log in and select Admin.\n",
      "\n",
      "In the Business Details section, select Your addresses.\n",
      "\n",
      "This screen displays your address details. Find the address you want to update and select Change.\n",
      "\n",
      "Follow the onscreen guidance.\n",
      "\n",
      "You'll need to verify yourself using your card and reader once you've made your changes. You'll then get a reference number.\n",
      "\n",
      "If you're not a full access user or don't have your card reader ready, you can complete a form and send it to us.\n",
      "\n",
      "To get you to the right form, we just need a bit of information from you.\n",
      "\n",
      "Do you have a named Relationship Manager?\n",
      "\n",
      "Select Yes or No.\n",
      "\n",
      "Is your turnover over £25 million?\n",
      "\n",
      "Select Yes or No.\n",
      "sources used: ['24', '26', '45']\n"
     ]
    }
   ],
   "source": [
    "rag = RAG(vai, pw)\n",
    "query = \"how do i change my address?\"\n",
    "response, sources = rag.generate(query)\n",
    "print(response)\n",
    "print('sources used:', sources)"
   ]
  },
  {
   "cell_type": "code",
   "execution_count": null,
   "id": "85d7656a-eeba-4b7f-8ab2-012bd63b59c9",
   "metadata": {},
   "outputs": [],
   "source": []
  }
 ],
 "metadata": {
  "environment": {
   "kernel": "python3",
   "name": "tf2-cpu.2-11.m112",
   "type": "gcloud",
   "uri": "gcr.io/deeplearning-platform-release/tf2-cpu.2-11:m112"
  },
  "kernelspec": {
   "display_name": "Python 3",
   "language": "python",
   "name": "python3"
  },
  "language_info": {
   "codemirror_mode": {
    "name": "ipython",
    "version": 3
   },
   "file_extension": ".py",
   "mimetype": "text/x-python",
   "name": "python",
   "nbconvert_exporter": "python",
   "pygments_lexer": "ipython3",
   "version": "3.7.12"
  }
 },
 "nbformat": 4,
 "nbformat_minor": 5
}
