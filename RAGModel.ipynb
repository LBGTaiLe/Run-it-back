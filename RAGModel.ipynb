{
 "cells": [
  {
   "cell_type": "markdown",
   "id": "d6484645-7a69-483d-ab99-441514f440c0",
   "metadata": {},
   "source": [
    "If any problems occur, please refer to the E2_Vector_Search to check out the set up process. "
   ]
  },
  {
   "cell_type": "code",
   "execution_count": 3,
   "id": "0c808834-cb99-4dee-9097-7c766734cc5a",
   "metadata": {},
   "outputs": [
    {
     "name": "stderr",
     "output_type": "stream",
     "text": [
      "2023-12-05 14:56:57.565120: I tensorflow/core/platform/cpu_feature_guard.cc:193] This TensorFlow binary is optimized with oneAPI Deep Neural Network Library (oneDNN) to use the following CPU instructions in performance-critical operations:  AVX2 FMA\n",
      "To enable them in other operations, rebuild TensorFlow with the appropriate compiler flags.\n",
      "2023-12-05 14:56:58.755032: W tensorflow/compiler/xla/stream_executor/platform/default/dso_loader.cc:64] Could not load dynamic library 'libnvinfer.so.7'; dlerror: libnvinfer.so.7: cannot open shared object file: No such file or directory; LD_LIBRARY_PATH: /usr/local/cuda/lib64:/usr/local/nccl2/lib:/usr/local/cuda/extras/CUPTI/lib64\n",
      "2023-12-05 14:56:58.755190: W tensorflow/compiler/xla/stream_executor/platform/default/dso_loader.cc:64] Could not load dynamic library 'libnvinfer_plugin.so.7'; dlerror: libnvinfer_plugin.so.7: cannot open shared object file: No such file or directory; LD_LIBRARY_PATH: /usr/local/cuda/lib64:/usr/local/nccl2/lib:/usr/local/cuda/extras/CUPTI/lib64\n",
      "2023-12-05 14:56:58.755205: W tensorflow/compiler/tf2tensorrt/utils/py_utils.cc:38] TF-TRT Warning: Cannot dlopen some TensorRT libraries. If you would like to use Nvidia GPU with TensorRT, please make sure the missing libraries mentioned above are installed properly.\n"
     ]
    }
   ],
   "source": [
    "# Import Vertex AI SDK\n",
    "PROJECT_ID = !gcloud config get project\n",
    "PROJECT_ID = PROJECT_ID.n\n",
    "LOCATION = \"europe-west2\"\n",
    "LOCATION_DEPLOY = \"europe-west2\" #Location to deploy GCP resources\n",
    "\n",
    "import vertexai\n",
    "from google.cloud import aiplatform\n",
    "\n",
    "vertexai.init(project=PROJECT_ID, location=LOCATION)"
   ]
  },
  {
   "cell_type": "code",
   "execution_count": 13,
   "id": "55984b68-a0cd-4d7e-b3c0-9d5d3a274ea8",
   "metadata": {},
   "outputs": [],
   "source": [
    "from vertexai.preview.language_models import ChatModel\n",
    "\n",
    "\"\"\" \n",
    "between using the most stable model in the last 6 month: chat-bison@001 \n",
    "and the latest, most capable model, there is a massive difference in \n",
    "terms of context awareness, length of answer, ability to follow instructions,\n",
    "etc. How do we measure these using metrics? I'm working on it.\n",
    "\n",
    "\"\"\"\n",
    "class PaLMWrapper:\n",
    "    def __init__(self):\n",
    "        self.chat_model = ChatModel.from_pretrained(\"chat-bison\")\n",
    "        self.parameters = {\n",
    "            \"temperature\": 0.3,\n",
    "            \"max_output_tokens\": 256,\n",
    "            \"top_p\": 0.95,\n",
    "        }\n",
    "    \n",
    "    def generate_response(self, context, message):\n",
    "        chat = self.chat_model.start_chat(context=context)\n",
    "        response = chat.send_message(message, **self.parameters)\n",
    "        return response.text"
   ]
  },
  {
   "cell_type": "code",
   "execution_count": 14,
   "id": "87611f14-b46d-468a-97f8-7c469b96b739",
   "metadata": {},
   "outputs": [
    {
     "data": {
      "text/plain": [
       "' Today will be cloudy with a high of 55 degrees Fahrenheit and a low of 40 degrees Fahrenheit. There is a 30% chance of rain.'"
      ]
     },
     "execution_count": 14,
     "metadata": {},
     "output_type": "execute_result"
    }
   ],
   "source": [
    "pw = PaLMWrapper()\n",
    "response = pw.generate_response(context='you are a london weather forecaster', message='whats the weather like today')\n",
    "response"
   ]
  },
  {
   "cell_type": "code",
   "execution_count": 15,
   "id": "df757677-25f2-437b-a38e-76deca85e834",
   "metadata": {},
   "outputs": [],
   "source": [
    "import pandas as pd\n",
    "\n",
    "import vertexai\n",
    "from vertexai.preview.language_models import TextEmbeddingModel\n",
    "from google.cloud import aiplatform\n",
    "\n",
    "class VertexAIVectorStore:\n",
    "    def __init__(self):\n",
    "        \n",
    "        # god awful way of doing it, should be a config and passed through but oh well hacky hack\n",
    "        self.gen_ai_index_endpoint = aiplatform.MatchingEngineIndexEndpoint(\n",
    "            index_endpoint_name=\"projects/playpen-8d8611/locations/europe-west2/indexEndpoints/5891412000042385408\"\n",
    "        )\n",
    "\n",
    "        self.gen_ai_index = aiplatform.MatchingEngineIndex(\n",
    "            index_name=\"projects/playpen-8d8611/locations/europe-west2/indexes/2680908415680643072\"\n",
    "        )\n",
    "        \n",
    "        self.model = TextEmbeddingModel.from_pretrained(\"textembedding-gecko@001\")\n",
    "        self.df = pd.read_csv('text_data_g_embedding.csv')\n",
    "        \n",
    "    def search(self, input, k=3):\n",
    "        embedding_vec =  self.model.get_embeddings([input])[0].values #Send request to embedding model to generate the embedding vector\n",
    "\n",
    "        #find neighbours using vector search\n",
    "        neighbours = self.gen_ai_index_endpoint.find_neighbors(\n",
    "            deployed_index_id=\"gen_ai_deployed_index\",\n",
    "            queries=[embedding_vec],\n",
    "            num_neighbors=k,\n",
    "        )[0]\n",
    "        \n",
    "        results = []\n",
    "        for nb in neighbours:\n",
    "            text_id = nb.id\n",
    "            text = self.df.iloc[int(nb.id)]['text']\n",
    "            score = nb.distance\n",
    "            results.append((text_id, text, score))\n",
    "        \n",
    "        return results\n"
   ]
  },
  {
   "cell_type": "code",
   "execution_count": 7,
   "id": "d8bf494d-8103-47d7-afa6-10555b5e422e",
   "metadata": {},
   "outputs": [
    {
     "data": {
      "text/plain": [
       "[('41',\n",
       "  'Security & fraudLost or stolen cardsReport a lost or stolen Business CardReport a lost or stolen Business payment cardReport a lost or stolen Corporate CardReport a lost or stolen Corpoarate cardReport a fraudReport a fraud on our business accountsMake a complaintReport fraudulent use of online bankingStaying safeProtect your business from fraudManage the cyber threat to your business',\n",
       "  0.7093294858932495),\n",
       " ('55',\n",
       "  \"Report\\xa0fraud on online business bankingCall us immediately\\xa0 if you think any of your Lloyds Business Bank accounts have been:accessed by a third party\\xa0ortargeted for\\xa0fraud.Please get in touch even if you haven't suffered any loss from the attempted fraud.This page is for business customersFind out how to report fraud if you’re a personal customerReport FraudBy PhoneOnline for Business\\xa00800 056 3099Commercial Banking Online\\xa00800 169 1296+44 1293 762 380 from abroad.\\xa0Lines are open 24 hours.You'll need to tell us the reason for your call so we can direct you to our fraud team.\\xa0Suspicious emailsRemember, we will never send you an email or a link to a website that asks you to enter your Internet Banking details. If you get anything like this, do not reply and forward it to our fraud team: emailscams@lloydsbank.co.ukWas this helpful?\\xa0YesNoNoReport\\xa0fraud on online business bankingCall us immediately\\xa0 if you think any of your Lloyds Business Bank accounts have been:accessed by a third party\\xa0ortargeted for\\xa0fraud.Please get in touch even if you haven't suffered any loss from the attempted fraud.This page is for business customersFind out how to report fraud if you’re a personal customerReport FraudBy PhoneOnline for Business\\xa00800 056 3099Commercial Banking Online\\xa00800 169 1296+44 1293 762 380 from abroad.\\xa0Lines are open 24 hours.You'll need to tell us the reason for your call so we can direct you to our fraud team.\\xa0Suspicious emailsRemember, we will never send you an email or a link to a website that asks you to enter your Internet Banking details. If you get anything like this, do not reply and forward it to our fraud team: emailscams@lloydsbank.co.ukWas this helpful?\\xa0YesNoNo\",\n",
       "  0.6592565178871155),\n",
       " ('37',\n",
       "  'Report fraud on your business accountsCall us immediately if you think any of your Lloyds Business Bank accounts have been:accessed by a third party ortargeted for fraud.Please get in touch even if you haven’t suffered any loss from the attempted fraud.information-iconThis page is for business customersFind out how to report fraud if you’re a personal customer.Report Fraudheadset-iconBy PhoneCall us anytime on\\xa00800 500 3920.You’ll need to tell us the reason for your call so we can direct you to our fraud team.Was this helpful?YesNoNoReport fraud on your business accountsCall us immediately if you think any of your Lloyds Business Bank accounts have been:accessed by a third party ortargeted for fraud.Please get in touch even if you haven’t suffered any loss from the attempted fraud.information-iconThis page is for business customersFind out how to report fraud if you’re a personal customer.Report Fraudheadset-iconBy PhoneCall us anytime on\\xa00800 500 3920.You’ll need to tell us the reason for your call so we can direct you to our fraud team.Was this helpful?YesNoNo',\n",
       "  0.6503989100456238)]"
      ]
     },
     "execution_count": 7,
     "metadata": {},
     "output_type": "execute_result"
    }
   ],
   "source": [
    "vai = VertexAIVectorStore()"
   ]
  },
  {
   "cell_type": "code",
   "execution_count": 16,
   "id": "c3c06457-c547-443b-b4dc-863c1e882ac9",
   "metadata": {},
   "outputs": [],
   "source": [
    "# couldnt get langchain to work so custom RAG anyone?\n",
    "import time\n",
    "\n",
    "class RAG:\n",
    "    def __init__(self, vector_store, palm_wrapper, initial_system_prompt=True):\n",
    "        self.vector_store = vector_store\n",
    "        self.palm_wrapper = palm_wrapper\n",
    "        # the comment from mathew regarding memory\n",
    "        self.conversation_history = []\n",
    "        \n",
    "        if initial_system_prompt:            \n",
    "            system_prompt = r\"You are a professional assistant with extensive experience helping numerous small and medium businesses. You work for a large retail bank called Lloyds. Please assist the user answering questions with detailed responses, providing reasoning whenever prescriptive advice is given.\"\n",
    "            self.conversation_history.append((system_prompt, \"\"))\n",
    "        \n",
    "    \n",
    "    def generate(self, query, is_user_query=True, k=3):\n",
    "        vector_start_time = time.time()\n",
    "        \n",
    "        contexts=[]\n",
    "        sources=[]\n",
    "        scores=[]\n",
    "        \n",
    "        if is_user_query:\n",
    "            # if user query, perform vector db search\n",
    "            # retrieve contexts based on the query\n",
    "            search_results = self.vector_store.search(query, k)\n",
    "            contexts = [result[1] for result in search_results]\n",
    "            sources = [result[0] for result in search_results]\n",
    "            scores = [result[2] for result in search_results]\n",
    "        \n",
    "        vector_end_time = time.time()\n",
    "        # combine both query and response from conversation history\n",
    "        history_context = '\\n'.join(['Q: ' + query + '\\nA: ' + response for query, response in self.conversation_history[-k:]])\n",
    "        \n",
    "        # combine history context and current contexts\n",
    "        combined_context = '\\n'.join([history_context] + contexts)\n",
    "        \n",
    "        lm_start_time = time.time()\n",
    "        response = self.palm_wrapper.generate_response(combined_context[:20000], query)\n",
    "        lm_end_time = time.time()\n",
    "        # update conversation history with current interaction\n",
    "        self.conversation_history.append((query, response))\n",
    "        \n",
    "        vector_search_time = vector_end_time - vector_start_time\n",
    "        lm_inference_time = lm_end_time - lm_start_time\n",
    "        \n",
    "        return response, sources, scores, vector_search_time, lm_inference_time"
   ]
  },
  {
   "cell_type": "code",
   "execution_count": 17,
   "id": "6f0915a2-848b-4b70-8b66-d7d53731c925",
   "metadata": {},
   "outputs": [
    {
     "name": "stdout",
     "output_type": "stream",
     "text": [
      " To change your address, you can either update it online or by form. \n",
      "\n",
      "*If you’re a full access user, you can update your business, registered, mailing and personal address.*\n",
      "\n",
      "To do this online, you will need your card reader ready to approve your changes.\n",
      "\n",
      "1. Log into Online for Business\n",
      "2. Select Admin\n",
      "3. In the Business Details section, select Your addresses\n",
      "4. This screen displays your address details.  \n",
      "5. Find the address you want to update and select Change\n",
      "6. Follow the onscreen guidance\n",
      "7. You’ll need to verify yourself using your card and reader once you’ve made your changes.  \n",
      "8. You’ll then get a reference number.\n",
      "\n",
      "*Alternatively, you can also change your address by form.*\n",
      "\n",
      "To get you to the right form, Lloyds asks a few questions: \n",
      "\n",
      "1. Do you have a named Relationship Manager? \n",
      "2. Is your turnover over £25 million? \n",
      "\n",
      "Based on your answers, you will be directed to the appropriate form and instructions on how to submit it.\n",
      "sources used: ['24', '26', '45']\n",
      "scores: [0.7175062894821167, 0.6619007587432861, 0.6554778814315796]\n"
     ]
    }
   ],
   "source": [
    "rag = RAG(vai, pw)\n",
    "query = \"how do i change my address?\"\n",
    "response, sources, scores, vector_search_time, lm_inference_time = rag.generate(query)\n",
    "print(response)\n",
    "print('sources used:', sources)\n",
    "print('scores:', scores)"
   ]
  },
  {
   "cell_type": "code",
   "execution_count": 18,
   "id": "56f06b42-1f61-43dd-b7a2-86bf4c6d7670",
   "metadata": {},
   "outputs": [
    {
     "name": "stdout",
     "output_type": "stream",
     "text": [
      " If your Corporate Card has been lost, stolen or misused please call us right away. This applies to your PIN or security details too.\n",
      "Payment cards include:\n",
      "Corporate MultiPay card\n",
      "Corporate Charge Card\n",
      "Corporate Purchasing Card\n",
      "Business Travel Solution\n",
      "ePay Virtual\n",
      "ePayables\n",
      "By Phone\n",
      "Call us anytime on 0800 096 4496\n",
      "If you're outside the UK call +44 1908 544 059.\n",
      "sources used: ['56', '53', '62']\n",
      "scores: [0.7142672538757324, 0.7047110795974731, 0.7031532526016235]\n",
      "vector search time: 0.21158623695373535\n",
      "llm inference time: 2.4716455936431885\n",
      " \n",
      "sources used: ['50', '51', '16']\n",
      "scores: [0.6711143851280212, 0.6682686805725098, 0.6521599292755127]\n",
      "vector search time: 0.42149877548217773\n",
      "llm inference time: 2.6167328357696533\n",
      " Apologies for the confusion. \n",
      "\n",
      "Do you want to know how to report a lost card, or why you need to report a lost card?\n",
      "\n",
      "sources used: ['50', '16', '67']\n",
      "scores: [0.6711143851280212, 0.6682686805725098, 0.6521599292755127]\n",
      "vector search time: 0.21642374992370605\n",
      "llm inference time: 2.6167328357696533\n",
      " 37°F/-3°C, light snow\n",
      "\n",
      "sources used: ['14', '50', '26']\n",
      "scores: [0.6232798099517822, 0.5904541611671448, 0.5719844102859497]\n",
      "vector search time: 0.18683910369873047\n",
      "llm inference time: 2.512110710144043\n",
      " To set up an online banking account, you will need to provide your bank with some personal information, such as your name, address, and Social Security number. You will also need to create a username and password. Once you have provided this information, you will be able to access your account online.\n",
      "\n",
      "Here are the steps on how to set up an online banking account:\n",
      "\n",
      "1. Go to your bank's website.\n",
      "2. Click on the \"Online Banking\" or \"Sign Up\" link.\n",
      "3. Enter your personal information, such as your name, address, and Social Security number.\n",
      "4. Create a username and password.\n",
      "5. Click on the \"Submit\" or \"Create Account\" button.\n",
      "6. You will now be able to access your account online.\n",
      "sources used: ['36', '40', '18']\n",
      "scores: [0.7497604489326477, 0.7378867864608765, 0.7196010947227478]\n",
      "vector search time: 0.4795806407928467\n",
      "llm inference time: 3.9592721462249756\n"
     ]
    }
   ],
   "source": [
    "rag = RAG(vai, pw)\n",
    "query = \"i've lost my card\"\n",
    "response, sources, scores, vector_search_time, lm_inference_time = rag.generate(query)\n",
    "print(response)\n",
    "print('sources used:', sources)\n",
    "print('scores:', scores)\n",
    "print('vector search time:', vector_search_time)\n",
    "print('llm inference time:', lm_inference_time)\n",
    "\n",
    "query = \"why?\"\n",
    "response, sources, scores, vector_search_time, lm_inference_time = rag.generate(query)\n",
    "print(response)\n",
    "print('sources used:', sources)\n",
    "print('scores:', scores)\n",
    "print('vector search time:', vector_search_time)\n",
    "print('llm inference time:', lm_inference_time)\n",
    "\n",
    "query = \"i was not asking about an audit request\"\n",
    "response, sources, score, vector_search_time, lm_inference_times = rag.generate(query)\n",
    "print(response)\n",
    "print('sources used:', sources)\n",
    "print('scores:', scores)\n",
    "print('vector search time:', vector_search_time)\n",
    "print('llm inference time:', lm_inference_time)\n",
    "\n",
    "query = \"what is the weather in london\"\n",
    "response, sources, scores, vector_search_time, lm_inference_time = rag.generate(query)\n",
    "print(response)\n",
    "print('sources used:', sources)\n",
    "print('scores:', scores)\n",
    "print('vector search time:', vector_search_time)\n",
    "print('llm inference time:', lm_inference_time)\n",
    "\n",
    "query = \"how can i set up an online banking account?\"\n",
    "response, sources, scores, vector_search_time, lm_inference_time = rag.generate(query)\n",
    "print(response)\n",
    "print('sources used:', sources)\n",
    "print('scores:', scores)\n",
    "print('vector search time:', vector_search_time)\n",
    "print('llm inference time:', lm_inference_time)"
   ]
  },
  {
   "cell_type": "code",
   "execution_count": 19,
   "id": "6b7298fa-3852-4046-8a45-41e14ab1c7f5",
   "metadata": {},
   "outputs": [
    {
     "data": {
      "application/vnd.jupyter.widget-view+json": {
       "model_id": "c73e04f361dc46769c9b703014e0079c",
       "version_major": 2,
       "version_minor": 0
      },
      "text/plain": [
       "Output(layout=Layout(border_bottom='1px solid black', border_left='1px solid black', border_right='1px solid b…"
      ]
     },
     "metadata": {},
     "output_type": "display_data"
    },
    {
     "data": {
      "application/vnd.jupyter.widget-view+json": {
       "model_id": "74dea516128f49c69413616a275b5b8d",
       "version_major": 2,
       "version_minor": 0
      },
      "text/plain": [
       "HBox(children=(Text(value='', description='Lloyds', layout=Layout(width='80%'), placeholder='Message LBG help …"
      ]
     },
     "metadata": {},
     "output_type": "display_data"
    }
   ],
   "source": [
    "import ipywidgets as widgets\n",
    "from IPython.display import display, clear_output\n",
    "\n",
    "class ChatUI:\n",
    "    def __init__(self, rag_instance):\n",
    "        self.rag_instance = rag_instance\n",
    "        self.conversation = []\n",
    "        self._setup_ui()\n",
    "    \n",
    "    def _setup_ui(self):\n",
    "        self.input_box = widgets.Text(\n",
    "            placeholder='Message LBG help and support...',\n",
    "            description='Lloyds',\n",
    "            layout={'width': '80%'}\n",
    "        )\n",
    "        \n",
    "        self.send_button = widgets.Button(\n",
    "            description='Send',\n",
    "            button_style='info',\n",
    "            layout={'width': '12%'}\n",
    "        )\n",
    "        self.output_area = widgets.Output(layout={'border': '1px solid black', 'width': '100%'})\n",
    "        self.send_button.on_click(self._on_send_clicked)\n",
    "        \n",
    "        input_send_box = widgets.HBox([self.input_box, self.send_button])\n",
    "        \n",
    "        display(self.output_area, input_send_box)\n",
    "        \n",
    "    def _on_send_clicked(self, b):\n",
    "        query = self.input_box.value\n",
    "        self.conversation.append(f\"You: {query}\")\n",
    "        response = self.rag_instance.generate(query)\n",
    "        self.conversation.append(f'LBG AI: {response}')\n",
    "        \n",
    "        with self.output_area:\n",
    "            clear_output(wait=True)\n",
    "            print('\\n'.join(self.conversation))\n",
    "        \n",
    "        # clear input box\n",
    "        self.input_box.value = ''\n",
    "        \n",
    "rag = RAG(vai, pw)\n",
    "chat_ui = ChatUI(rag)            "
   ]
  },
  {
   "cell_type": "code",
   "execution_count": null,
   "id": "c482d7de-97fb-42c0-b2ec-dfa6ced835be",
   "metadata": {},
   "outputs": [],
   "source": []
  }
 ],
 "metadata": {
  "environment": {
   "kernel": "python3",
   "name": "tf2-cpu.2-11.m112",
   "type": "gcloud",
   "uri": "gcr.io/deeplearning-platform-release/tf2-cpu.2-11:m112"
  },
  "kernelspec": {
   "display_name": "Python 3",
   "language": "python",
   "name": "python3"
  },
  "language_info": {
   "codemirror_mode": {
    "name": "ipython",
    "version": 3
   },
   "file_extension": ".py",
   "mimetype": "text/x-python",
   "name": "python",
   "nbconvert_exporter": "python",
   "pygments_lexer": "ipython3",
   "version": "3.7.12"
  }
 },
 "nbformat": 4,
 "nbformat_minor": 5
}
