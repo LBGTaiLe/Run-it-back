{
 "cells": [
  {
   "cell_type": "code",
   "execution_count": 1,
   "id": "55984b68-a0cd-4d7e-b3c0-9d5d3a274ea8",
   "metadata": {},
   "outputs": [
    {
     "name": "stderr",
     "output_type": "stream",
     "text": [
      "2023-12-01 14:31:54.405690: I tensorflow/core/platform/cpu_feature_guard.cc:193] This TensorFlow binary is optimized with oneAPI Deep Neural Network Library (oneDNN) to use the following CPU instructions in performance-critical operations:  AVX2 FMA\n",
      "To enable them in other operations, rebuild TensorFlow with the appropriate compiler flags.\n",
      "2023-12-01 14:31:59.105640: W tensorflow/compiler/xla/stream_executor/platform/default/dso_loader.cc:64] Could not load dynamic library 'libnvinfer.so.7'; dlerror: libnvinfer.so.7: cannot open shared object file: No such file or directory; LD_LIBRARY_PATH: /usr/local/cuda/lib64:/usr/local/nccl2/lib:/usr/local/cuda/extras/CUPTI/lib64\n",
      "2023-12-01 14:31:59.107582: W tensorflow/compiler/xla/stream_executor/platform/default/dso_loader.cc:64] Could not load dynamic library 'libnvinfer_plugin.so.7'; dlerror: libnvinfer_plugin.so.7: cannot open shared object file: No such file or directory; LD_LIBRARY_PATH: /usr/local/cuda/lib64:/usr/local/nccl2/lib:/usr/local/cuda/extras/CUPTI/lib64\n",
      "2023-12-01 14:31:59.107610: W tensorflow/compiler/tf2tensorrt/utils/py_utils.cc:38] TF-TRT Warning: Cannot dlopen some TensorRT libraries. If you would like to use Nvidia GPU with TensorRT, please make sure the missing libraries mentioned above are installed properly.\n"
     ]
    }
   ],
   "source": [
    "from vertexai.preview.language_models import ChatModel\n",
    "\n",
    "class PaLMWrapper:\n",
    "    def __init__(self):\n",
    "        self.chat_model = ChatModel.from_pretrained(\"chat-bison@001\")\n",
    "        self.parameters = {\n",
    "            \"temperature\": 0.2,\n",
    "            \"max_output_tokens\": 256,\n",
    "            \"top_p\": 0.95,\n",
    "        }\n",
    "    \n",
    "    def generate_response(self, context, message):\n",
    "        chat = self.chat_model.start_chat(context=context)\n",
    "        response = chat.send_message(message, **self.parameters)\n",
    "        return response.text"
   ]
  },
  {
   "cell_type": "code",
   "execution_count": 2,
   "id": "87611f14-b46d-468a-97f8-7c469b96b739",
   "metadata": {},
   "outputs": [
    {
     "data": {
      "text/plain": [
       "\"Today's weather in London is expected to be cloudy with a high of 15 degrees Celsius and a low of 10 degrees Celsius. There is a 20% chance of rain in the afternoon.\""
      ]
     },
     "execution_count": 2,
     "metadata": {},
     "output_type": "execute_result"
    }
   ],
   "source": [
    "pw = PaLMWrapper()\n",
    "response = pw.generate_response(context='you are a london weather forecaster', message='whats the weather like today')\n",
    "response"
   ]
  },
  {
   "cell_type": "code",
   "execution_count": 17,
   "id": "df757677-25f2-437b-a38e-76deca85e834",
   "metadata": {},
   "outputs": [],
   "source": [
    "import pandas as pd\n",
    "\n",
    "import vertexai\n",
    "from vertexai.preview.language_models import TextEmbeddingModel\n",
    "from google.cloud import aiplatform\n",
    "\n",
    "class VertexAIVectorStore:\n",
    "    def __init__(self):\n",
    "        \n",
    "        # god awful way of doing it, should be a config and passed through but oh well hacky hack\n",
    "        self.gen_ai_index_endpoint = aiplatform.MatchingEngineIndexEndpoint(\n",
    "            index_endpoint_name=\"projects/playpen-8d8611/locations/europe-west2/indexEndpoints/5891412000042385408\"\n",
    "        )\n",
    "\n",
    "        self.gen_ai_index = aiplatform.MatchingEngineIndex(\n",
    "            index_name=\"projects/playpen-8d8611/locations/europe-west2/indexes/2680908415680643072\"\n",
    "        )\n",
    "        \n",
    "        self.model = TextEmbeddingModel.from_pretrained(\"textembedding-gecko@001\")\n",
    "        self.df = pd.read_csv('text_data_g_embedding.csv')\n",
    "        \n",
    "    def search(self, input, k=3):\n",
    "        embedding_vec =  self.model.get_embeddings([input])[0].values #Send request to embedding model to generate the embedding vector\n",
    "\n",
    "        #find neighbours using vector search\n",
    "        neighbours = self.gen_ai_index_endpoint.find_neighbors(\n",
    "            deployed_index_id=\"gen_ai_deployed_index\",\n",
    "            queries=[embedding_vec],\n",
    "            num_neighbors=k,\n",
    "        )[0]\n",
    "        \n",
    "        results = []\n",
    "        for nb in neighbours:\n",
    "            text_id = nb.id\n",
    "            text = self.df.iloc[int(nb.id)]['text']\n",
    "            score = nb.distance\n",
    "            results.append((text_id, text, score))\n",
    "        \n",
    "        return results\n"
   ]
  },
  {
   "cell_type": "code",
   "execution_count": 18,
   "id": "d8bf494d-8103-47d7-afa6-10555b5e422e",
   "metadata": {},
   "outputs": [
    {
     "data": {
      "text/plain": [
       "[('41',\n",
       "  'Security & fraudLost or stolen cardsReport a lost or stolen Business CardReport a lost or stolen Business payment cardReport a lost or stolen Corporate CardReport a lost or stolen Corpoarate cardReport a fraudReport a fraud on our business accountsMake a complaintReport fraudulent use of online bankingStaying safeProtect your business from fraudManage the cyber threat to your business',\n",
       "  0.7093294858932495),\n",
       " ('55',\n",
       "  \"Report\\xa0fraud on online business bankingCall us immediately\\xa0 if you think any of your Lloyds Business Bank accounts have been:accessed by a third party\\xa0ortargeted for\\xa0fraud.Please get in touch even if you haven't suffered any loss from the attempted fraud.This page is for business customersFind out how to report fraud if you’re a personal customerReport FraudBy PhoneOnline for Business\\xa00800 056 3099Commercial Banking Online\\xa00800 169 1296+44 1293 762 380 from abroad.\\xa0Lines are open 24 hours.You'll need to tell us the reason for your call so we can direct you to our fraud team.\\xa0Suspicious emailsRemember, we will never send you an email or a link to a website that asks you to enter your Internet Banking details. If you get anything like this, do not reply and forward it to our fraud team: emailscams@lloydsbank.co.ukWas this helpful?\\xa0YesNoNoReport\\xa0fraud on online business bankingCall us immediately\\xa0 if you think any of your Lloyds Business Bank accounts have been:accessed by a third party\\xa0ortargeted for\\xa0fraud.Please get in touch even if you haven't suffered any loss from the attempted fraud.This page is for business customersFind out how to report fraud if you’re a personal customerReport FraudBy PhoneOnline for Business\\xa00800 056 3099Commercial Banking Online\\xa00800 169 1296+44 1293 762 380 from abroad.\\xa0Lines are open 24 hours.You'll need to tell us the reason for your call so we can direct you to our fraud team.\\xa0Suspicious emailsRemember, we will never send you an email or a link to a website that asks you to enter your Internet Banking details. If you get anything like this, do not reply and forward it to our fraud team: emailscams@lloydsbank.co.ukWas this helpful?\\xa0YesNoNo\",\n",
       "  0.6592565178871155),\n",
       " ('37',\n",
       "  'Report fraud on your business accountsCall us immediately if you think any of your Lloyds Business Bank accounts have been:accessed by a third party ortargeted for fraud.Please get in touch even if you haven’t suffered any loss from the attempted fraud.information-iconThis page is for business customersFind out how to report fraud if you’re a personal customer.Report Fraudheadset-iconBy PhoneCall us anytime on\\xa00800 500 3920.You’ll need to tell us the reason for your call so we can direct you to our fraud team.Was this helpful?YesNoNoReport fraud on your business accountsCall us immediately if you think any of your Lloyds Business Bank accounts have been:accessed by a third party ortargeted for fraud.Please get in touch even if you haven’t suffered any loss from the attempted fraud.information-iconThis page is for business customersFind out how to report fraud if you’re a personal customer.Report Fraudheadset-iconBy PhoneCall us anytime on\\xa00800 500 3920.You’ll need to tell us the reason for your call so we can direct you to our fraud team.Was this helpful?YesNoNo',\n",
       "  0.6503989100456238)]"
      ]
     },
     "execution_count": 18,
     "metadata": {},
     "output_type": "execute_result"
    }
   ],
   "source": [
    "vai = VertexAIVectorStore()\n",
    "vector = vai.search(input='what is credit card fraud')\n",
    "vector"
   ]
  },
  {
   "cell_type": "code",
   "execution_count": null,
   "id": "c3c06457-c547-443b-b4dc-863c1e882ac9",
   "metadata": {},
   "outputs": [],
   "source": []
  }
 ],
 "metadata": {
  "environment": {
   "kernel": "python3",
   "name": "tf2-cpu.2-11.m112",
   "type": "gcloud",
   "uri": "gcr.io/deeplearning-platform-release/tf2-cpu.2-11:m112"
  },
  "kernelspec": {
   "display_name": "Python 3",
   "language": "python",
   "name": "python3"
  },
  "language_info": {
   "codemirror_mode": {
    "name": "ipython",
    "version": 3
   },
   "file_extension": ".py",
   "mimetype": "text/x-python",
   "name": "python",
   "nbconvert_exporter": "python",
   "pygments_lexer": "ipython3",
   "version": "3.7.12"
  }
 },
 "nbformat": 4,
 "nbformat_minor": 5
}
