{
 "cells": [
  {
   "cell_type": "code",
   "execution_count": 1,
   "id": "55984b68-a0cd-4d7e-b3c0-9d5d3a274ea8",
   "metadata": {},
   "outputs": [
    {
     "name": "stderr",
     "output_type": "stream",
     "text": [
      "2023-12-01 16:41:56.326157: I tensorflow/core/platform/cpu_feature_guard.cc:193] This TensorFlow binary is optimized with oneAPI Deep Neural Network Library (oneDNN) to use the following CPU instructions in performance-critical operations:  AVX2 FMA\n",
      "To enable them in other operations, rebuild TensorFlow with the appropriate compiler flags.\n",
      "2023-12-01 16:41:57.628491: W tensorflow/compiler/xla/stream_executor/platform/default/dso_loader.cc:64] Could not load dynamic library 'libnvinfer.so.7'; dlerror: libnvinfer.so.7: cannot open shared object file: No such file or directory; LD_LIBRARY_PATH: /usr/local/cuda/lib64:/usr/local/nccl2/lib:/usr/local/cuda/extras/CUPTI/lib64\n",
      "2023-12-01 16:41:57.628645: W tensorflow/compiler/xla/stream_executor/platform/default/dso_loader.cc:64] Could not load dynamic library 'libnvinfer_plugin.so.7'; dlerror: libnvinfer_plugin.so.7: cannot open shared object file: No such file or directory; LD_LIBRARY_PATH: /usr/local/cuda/lib64:/usr/local/nccl2/lib:/usr/local/cuda/extras/CUPTI/lib64\n",
      "2023-12-01 16:41:57.628659: W tensorflow/compiler/tf2tensorrt/utils/py_utils.cc:38] TF-TRT Warning: Cannot dlopen some TensorRT libraries. If you would like to use Nvidia GPU with TensorRT, please make sure the missing libraries mentioned above are installed properly.\n"
     ]
    }
   ],
   "source": [
    "from vertexai.preview.language_models import ChatModel\n",
    "\n",
    "class PaLMWrapper:\n",
    "    def __init__(self):\n",
    "        self.chat_model = ChatModel.from_pretrained(\"chat-bison@001\")\n",
    "        self.parameters = {\n",
    "            \"temperature\": 0.2,\n",
    "            \"max_output_tokens\": 256,\n",
    "            \"top_p\": 0.95,\n",
    "        }\n",
    "    \n",
    "    def generate_response(self, context, message):\n",
    "        chat = self.chat_model.start_chat(context=context)\n",
    "        response = chat.send_message(message, **self.parameters)\n",
    "        return response.text"
   ]
  },
  {
   "cell_type": "code",
   "execution_count": 2,
   "id": "87611f14-b46d-468a-97f8-7c469b96b739",
   "metadata": {},
   "outputs": [
    {
     "data": {
      "text/plain": [
       "'Today, the weather in London is expected to be cloudy with a high of 55 degrees Fahrenheit. There is a 30% chance of rain in the afternoon.'"
      ]
     },
     "execution_count": 2,
     "metadata": {},
     "output_type": "execute_result"
    }
   ],
   "source": [
    "pw = PaLMWrapper()\n",
    "response = pw.generate_response(context='you are a london weather forecaster', message='whats the weather like today')\n",
    "response"
   ]
  },
  {
   "cell_type": "code",
   "execution_count": 3,
   "id": "df757677-25f2-437b-a38e-76deca85e834",
   "metadata": {},
   "outputs": [],
   "source": [
    "import pandas as pd\n",
    "\n",
    "import vertexai\n",
    "from vertexai.preview.language_models import TextEmbeddingModel\n",
    "from google.cloud import aiplatform\n",
    "\n",
    "class VertexAIVectorStore:\n",
    "    def __init__(self):\n",
    "        \n",
    "        # god awful way of doing it, should be a config and passed through but oh well hacky hack\n",
    "        self.gen_ai_index_endpoint = aiplatform.MatchingEngineIndexEndpoint(\n",
    "            index_endpoint_name=\"projects/playpen-8d8611/locations/europe-west2/indexEndpoints/5891412000042385408\"\n",
    "        )\n",
    "\n",
    "        self.gen_ai_index = aiplatform.MatchingEngineIndex(\n",
    "            index_name=\"projects/playpen-8d8611/locations/europe-west2/indexes/2680908415680643072\"\n",
    "        )\n",
    "        \n",
    "        self.model = TextEmbeddingModel.from_pretrained(\"textembedding-gecko@001\")\n",
    "        self.df = pd.read_csv('text_data_g_embedding.csv')\n",
    "        \n",
    "    def search(self, input, k=3):\n",
    "        embedding_vec =  self.model.get_embeddings([input])[0].values #Send request to embedding model to generate the embedding vector\n",
    "\n",
    "        #find neighbours using vector search\n",
    "        neighbours = self.gen_ai_index_endpoint.find_neighbors(\n",
    "            deployed_index_id=\"gen_ai_deployed_index\",\n",
    "            queries=[embedding_vec],\n",
    "            num_neighbors=k,\n",
    "        )[0]\n",
    "        \n",
    "        results = []\n",
    "        for nb in neighbours:\n",
    "            text_id = nb.id\n",
    "            text = self.df.iloc[int(nb.id)]['text']\n",
    "            score = nb.distance\n",
    "            results.append((text_id, text, score))\n",
    "        \n",
    "        return results\n"
   ]
  },
  {
   "cell_type": "code",
   "execution_count": 4,
   "id": "d8bf494d-8103-47d7-afa6-10555b5e422e",
   "metadata": {},
   "outputs": [
    {
     "data": {
      "text/plain": [
       "[('41',\n",
       "  'Security & fraudLost or stolen cardsReport a lost or stolen Business CardReport a lost or stolen Business payment cardReport a lost or stolen Corporate CardReport a lost or stolen Corpoarate cardReport a fraudReport a fraud on our business accountsMake a complaintReport fraudulent use of online bankingStaying safeProtect your business from fraudManage the cyber threat to your business',\n",
       "  0.7093294858932495),\n",
       " ('55',\n",
       "  \"Report\\xa0fraud on online business bankingCall us immediately\\xa0 if you think any of your Lloyds Business Bank accounts have been:accessed by a third party\\xa0ortargeted for\\xa0fraud.Please get in touch even if you haven't suffered any loss from the attempted fraud.This page is for business customersFind out how to report fraud if you’re a personal customerReport FraudBy PhoneOnline for Business\\xa00800 056 3099Commercial Banking Online\\xa00800 169 1296+44 1293 762 380 from abroad.\\xa0Lines are open 24 hours.You'll need to tell us the reason for your call so we can direct you to our fraud team.\\xa0Suspicious emailsRemember, we will never send you an email or a link to a website that asks you to enter your Internet Banking details. If you get anything like this, do not reply and forward it to our fraud team: emailscams@lloydsbank.co.ukWas this helpful?\\xa0YesNoNoReport\\xa0fraud on online business bankingCall us immediately\\xa0 if you think any of your Lloyds Business Bank accounts have been:accessed by a third party\\xa0ortargeted for\\xa0fraud.Please get in touch even if you haven't suffered any loss from the attempted fraud.This page is for business customersFind out how to report fraud if you’re a personal customerReport FraudBy PhoneOnline for Business\\xa00800 056 3099Commercial Banking Online\\xa00800 169 1296+44 1293 762 380 from abroad.\\xa0Lines are open 24 hours.You'll need to tell us the reason for your call so we can direct you to our fraud team.\\xa0Suspicious emailsRemember, we will never send you an email or a link to a website that asks you to enter your Internet Banking details. If you get anything like this, do not reply and forward it to our fraud team: emailscams@lloydsbank.co.ukWas this helpful?\\xa0YesNoNo\",\n",
       "  0.6592565178871155),\n",
       " ('37',\n",
       "  'Report fraud on your business accountsCall us immediately if you think any of your Lloyds Business Bank accounts have been:accessed by a third party ortargeted for fraud.Please get in touch even if you haven’t suffered any loss from the attempted fraud.information-iconThis page is for business customersFind out how to report fraud if you’re a personal customer.Report Fraudheadset-iconBy PhoneCall us anytime on\\xa00800 500 3920.You’ll need to tell us the reason for your call so we can direct you to our fraud team.Was this helpful?YesNoNoReport fraud on your business accountsCall us immediately if you think any of your Lloyds Business Bank accounts have been:accessed by a third party ortargeted for fraud.Please get in touch even if you haven’t suffered any loss from the attempted fraud.information-iconThis page is for business customersFind out how to report fraud if you’re a personal customer.Report Fraudheadset-iconBy PhoneCall us anytime on\\xa00800 500 3920.You’ll need to tell us the reason for your call so we can direct you to our fraud team.Was this helpful?YesNoNo',\n",
       "  0.6503989100456238)]"
      ]
     },
     "execution_count": 4,
     "metadata": {},
     "output_type": "execute_result"
    }
   ],
   "source": [
    "vai = VertexAIVectorStore()\n",
    "vector = vai.search(input='what is credit card fraud')\n",
    "vector"
   ]
  },
  {
   "cell_type": "code",
   "execution_count": 5,
   "id": "c3c06457-c547-443b-b4dc-863c1e882ac9",
   "metadata": {},
   "outputs": [],
   "source": [
    "# custom RAG anyone?\n",
    "\n",
    "class RAG:\n",
    "    def __init__(self, vector_store, palm_wrapper):\n",
    "        self.vector_store = vector_store\n",
    "        self.palm_wrapper = palm_wrapper\n",
    "        # at the request of mathew for memory\n",
    "        self.conversation_history = []\n",
    "    \n",
    "    def generate(self, query, k=3):\n",
    "        self.conversation_history.append(query)\n",
    "        \n",
    "        search_results = self.vector_store.search(query, k)\n",
    "        contexts = [result[1] for result in search_results]\n",
    "\n",
    "        history_context = [resp for resp in self.conversation_history[-k:]]\n",
    "        combined_context = '\\n'.join(history_context + contexts)\n",
    "        response = self.palm_wrapper.generate_response(combined_context[:20000], query)\n",
    "        \n",
    "        self.conversation_history.append((query, response))\n",
    "        \n",
    "        sources = [(result[0]) for result in search_results]\n",
    "        \n",
    "        return response, sources"
   ]
  },
  {
   "cell_type": "code",
   "execution_count": 6,
   "id": "6f0915a2-848b-4b70-8b66-d7d53731c925",
   "metadata": {},
   "outputs": [
    {
     "name": "stdout",
     "output_type": "stream",
     "text": [
      "To change your business address, you can either update it online or complete a form and send it to us.\n",
      "\n",
      "To update your address online, you need to be a full access user and have your card reader ready. In Online for Business, log into Admin, then select Business Details and Your addresses. Find the address you want to update and select Change. Follow the onscreen guidance. You'll need to verify yourself using your card and reader once you've made your changes. You'll then get a reference number.\n",
      "\n",
      "If you don't have Online for Business, you can complete a form and send it to us. You can find the form here.\n",
      "sources used: ['24', '26', '45']\n"
     ]
    }
   ],
   "source": [
    "rag = RAG(vai, pw)\n",
    "query = \"how do i change my address?\"\n",
    "response, sources = rag.generate(query)\n",
    "print(response)\n",
    "print('sources used:', sources)"
   ]
  },
  {
   "cell_type": "code",
   "execution_count": 10,
   "id": "56f06b42-1f61-43dd-b7a2-86bf4c6d7670",
   "metadata": {},
   "outputs": [
    {
     "name": "stdout",
     "output_type": "stream",
     "text": [
      "If you have lost your card, please call us right away on 0800 096 9779. We will cancel your card and issue you with a new one.\n",
      "sources used: ['56', '53', '27']\n"
     ]
    }
   ],
   "source": [
    "rag = RAG(vai, pw)\n",
    "\n",
    "query = \"i've lost my card what should I do?\"\n",
    "response, sources = rag.generate(query)\n",
    "print(response)\n",
    "print('sources used:', sources)"
   ]
  },
  {
   "cell_type": "code",
   "execution_count": 29,
   "id": "6b7298fa-3852-4046-8a45-41e14ab1c7f5",
   "metadata": {},
   "outputs": [
    {
     "data": {
      "application/vnd.jupyter.widget-view+json": {
       "model_id": "dac70b1b85604b9d96a337d3569440a9",
       "version_major": 2,
       "version_minor": 0
      },
      "text/plain": [
       "Output(layout=Layout(border_bottom='1px solid black', border_left='1px solid black', border_right='1px solid b…"
      ]
     },
     "metadata": {},
     "output_type": "display_data"
    },
    {
     "data": {
      "application/vnd.jupyter.widget-view+json": {
       "model_id": "6bdf4312597549bc82fad893e534bff5",
       "version_major": 2,
       "version_minor": 0
      },
      "text/plain": [
       "HBox(children=(Text(value='', description='Lloyds', layout=Layout(width='80%'), placeholder='Message LBG help …"
      ]
     },
     "metadata": {},
     "output_type": "display_data"
    }
   ],
   "source": [
    "import ipywidgets as widgets\n",
    "from IPython.display import display, clear_output\n",
    "\n",
    "class ChatUI:\n",
    "    def __init__(self, rag_instance):\n",
    "        self.rag_instance = rag_instance\n",
    "        self.conversation = []\n",
    "        self._setup_ui()\n",
    "    \n",
    "    def _setup_ui(self):\n",
    "        self.input_box = widgets.Text(\n",
    "            placeholder='Message LBG help and support...',\n",
    "            description='Lloyds',\n",
    "            layout={'width': '80%'}\n",
    "        )\n",
    "        \n",
    "        self.send_button = widgets.Button(\n",
    "            description='Send',\n",
    "            button_style='info',\n",
    "            layout={'width': '12%'}\n",
    "        )\n",
    "        self.output_area = widgets.Output(layout={'border': '1px solid black', 'width': '100%'})\n",
    "        self.send_button.on_click(self._on_send_clicked)\n",
    "        \n",
    "        input_send_box = widgets.HBox([self.input_box, self.send_button])\n",
    "        \n",
    "        display(self.output_area, input_send_box)\n",
    "        \n",
    "    def _on_send_clicked(self, b):\n",
    "        query = self.input_box.value\n",
    "        self.conversation.append(f\"You: {query}\")\n",
    "        response = self.rag_instance.generate(query)\n",
    "        self.conversation.append(f'LBG AI: {response}')\n",
    "        \n",
    "        with self.output_area:\n",
    "            clear_output(wait=True)\n",
    "            print('\\n'.join(self.conversation))\n",
    "        \n",
    "        # clear input box\n",
    "        self.input_box.value = ''\n",
    "        \n",
    "rag = RAG(vai, pw)\n",
    "chat_ui = ChatUI(rag)            "
   ]
  },
  {
   "cell_type": "code",
   "execution_count": null,
   "id": "d9e3562d-281d-41a8-8254-524400506171",
   "metadata": {},
   "outputs": [],
   "source": []
  },
  {
   "cell_type": "code",
   "execution_count": null,
   "id": "c482d7de-97fb-42c0-b2ec-dfa6ced835be",
   "metadata": {},
   "outputs": [],
   "source": []
  }
 ],
 "metadata": {
  "environment": {
   "kernel": "python3",
   "name": "tf2-cpu.2-11.m112",
   "type": "gcloud",
   "uri": "gcr.io/deeplearning-platform-release/tf2-cpu.2-11:m112"
  },
  "kernelspec": {
   "display_name": "Python 3",
   "language": "python",
   "name": "python3"
  },
  "language_info": {
   "codemirror_mode": {
    "name": "ipython",
    "version": 3
   },
   "file_extension": ".py",
   "mimetype": "text/x-python",
   "name": "python",
   "nbconvert_exporter": "python",
   "pygments_lexer": "ipython3",
   "version": "3.7.12"
  }
 },
 "nbformat": 4,
 "nbformat_minor": 5
}
