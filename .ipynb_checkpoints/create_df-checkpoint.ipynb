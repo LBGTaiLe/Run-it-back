{
 "cells": [
  {
   "cell_type": "code",
   "execution_count": 1,
   "id": "b31bf665-c5b5-4a0c-96ef-4133cdcf18c6",
   "metadata": {},
   "outputs": [],
   "source": [
    "import os\n",
    "import pandas as pd"
   ]
  },
  {
   "cell_type": "code",
   "execution_count": 3,
   "id": "fca2c087-1d90-4afe-91ca-836bac9b83a1",
   "metadata": {},
   "outputs": [
    {
     "name": "stdout",
     "output_type": "stream",
     "text": [
      "                                     file_name  \\\n",
      "0  order-a-replacement-business-debit-card.txt   \n",
      "1                            find-iban-bic.txt   \n",
      "\n",
      "                                                text  \n",
      "0  Order a replacement Business Debit CardOrder a...  \n",
      "1  Find your IBAN and BICIBAN is your Internation...  \n"
     ]
    }
   ],
   "source": [
    "folder_path = 'output'\n",
    "data = {'file_name' : [], 'text': []}\n",
    "\n",
    "for filename in os.listdir(folder_path):\n",
    "    if filename.endswith('.txt'):\n",
    "        file_path = os.path.join(folder_path, filename)\n",
    "        with open(file_path, 'r', encoding='utf-8') as file:\n",
    "            text_data = file.read().replace('\\n', '')\n",
    "        \n",
    "        data['file_name'].append(filename)\n",
    "        data['text'].append(text_data)\n",
    "\n",
    "text_data_df = pd.DataFrame(data)\n",
    "text_data_df.to_csv('text_data.csv', index=False)\n",
    "\n",
    "print(text_data_df.head(2))"
   ]
  },
  {
   "cell_type": "code",
   "execution_count": null,
   "id": "aa05ee95-fd91-4f2e-9023-cad21c726856",
   "metadata": {},
   "outputs": [],
   "source": []
  }
 ],
 "metadata": {
  "environment": {
   "kernel": "python3",
   "name": "tf2-cpu.2-11.m112",
   "type": "gcloud",
   "uri": "gcr.io/deeplearning-platform-release/tf2-cpu.2-11:m112"
  },
  "kernelspec": {
   "display_name": "Python 3",
   "language": "python",
   "name": "python3"
  },
  "language_info": {
   "codemirror_mode": {
    "name": "ipython",
    "version": 3
   },
   "file_extension": ".py",
   "mimetype": "text/x-python",
   "name": "python",
   "nbconvert_exporter": "python",
   "pygments_lexer": "ipython3",
   "version": "3.7.12"
  }
 },
 "nbformat": 4,
 "nbformat_minor": 5
}
