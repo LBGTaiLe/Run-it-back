{
 "cells": [
  {
   "cell_type": "code",
   "execution_count": 1,
   "id": "5491f906-a4cb-4133-9e3c-3ae5991d3533",
   "metadata": {},
   "outputs": [],
   "source": [
    "# !pip uninstall nvidia_cublas_cu11 --yes\n",
    "# !pip install langchain\n",
    "# !pip install \"google-cloud-aiplatform>1.25\" \"shapely<2.0.0\"\n",
    "# !pip install scann\n",
    "# !pip install cuda-python\n",
    "# !pip install tensorrt \n",
    "# !pip install tensorflow\n",
    "# !pip install sentence_transformers"
   ]
  },
  {
   "cell_type": "code",
   "execution_count": 2,
   "id": "e0cd35af-d1b7-4984-9c62-7cff651a67f6",
   "metadata": {},
   "outputs": [
    {
     "name": "stderr",
     "output_type": "stream",
     "text": [
      "2023-11-30 18:47:15.912768: I tensorflow/core/platform/cpu_feature_guard.cc:193] This TensorFlow binary is optimized with oneAPI Deep Neural Network Library (oneDNN) to use the following CPU instructions in performance-critical operations:  AVX2 FMA\n",
      "To enable them in other operations, rebuild TensorFlow with the appropriate compiler flags.\n",
      "2023-11-30 18:47:17.609931: W tensorflow/compiler/xla/stream_executor/platform/default/dso_loader.cc:64] Could not load dynamic library 'libnvinfer.so.7'; dlerror: libnvinfer.so.7: cannot open shared object file: No such file or directory; LD_LIBRARY_PATH: /usr/local/cuda/lib64:/usr/local/nccl2/lib:/usr/local/cuda/extras/CUPTI/lib64\n",
      "2023-11-30 18:47:17.610312: W tensorflow/compiler/xla/stream_executor/platform/default/dso_loader.cc:64] Could not load dynamic library 'libnvinfer_plugin.so.7'; dlerror: libnvinfer_plugin.so.7: cannot open shared object file: No such file or directory; LD_LIBRARY_PATH: /usr/local/cuda/lib64:/usr/local/nccl2/lib:/usr/local/cuda/extras/CUPTI/lib64\n",
      "2023-11-30 18:47:17.610338: W tensorflow/compiler/tf2tensorrt/utils/py_utils.cc:38] TF-TRT Warning: Cannot dlopen some TensorRT libraries. If you would like to use Nvidia GPU with TensorRT, please make sure the missing libraries mentioned above are installed properly.\n"
     ]
    },
    {
     "name": "stdout",
     "output_type": "stream",
     "text": [
      "[]\n"
     ]
    },
    {
     "name": "stderr",
     "output_type": "stream",
     "text": [
      "2023-11-30 18:47:19.128969: I tensorflow/core/platform/cpu_feature_guard.cc:193] This TensorFlow binary is optimized with oneAPI Deep Neural Network Library (oneDNN) to use the following CPU instructions in performance-critical operations:  AVX2 FMA\n",
      "To enable them in other operations, rebuild TensorFlow with the appropriate compiler flags.\n",
      "2023-11-30 18:47:19.129637: W tensorflow/compiler/xla/stream_executor/platform/default/dso_loader.cc:64] Could not load dynamic library 'libcuda.so.1'; dlerror: libcuda.so.1: cannot open shared object file: No such file or directory; LD_LIBRARY_PATH: /usr/local/cuda/lib64:/usr/local/nccl2/lib:/usr/local/cuda/extras/CUPTI/lib64\n",
      "2023-11-30 18:47:19.129660: W tensorflow/compiler/xla/stream_executor/cuda/cuda_driver.cc:265] failed call to cuInit: UNKNOWN ERROR (303)\n",
      "2023-11-30 18:47:19.129682: I tensorflow/compiler/xla/stream_executor/cuda/cuda_diagnostics.cc:156] kernel driver does not appear to be running on this host (gen-ai-notebook): /proc/driver/nvidia/version does not exist\n"
     ]
    }
   ],
   "source": [
    "from tensorflow.python.client import device_lib\n",
    "\n",
    "def get_available_gpus():\n",
    "    local_device_protos = device_lib.list_local_devices()\n",
    "    return [x.name for x in local_device_protos if\n",
    "            x.device_type == 'GPU']\n",
    "\n",
    "print(get_available_gpus())"
   ]
  },
  {
   "cell_type": "code",
   "execution_count": 3,
   "id": "ba5c3c77-9b48-4359-a621-32322d99065d",
   "metadata": {},
   "outputs": [],
   "source": [
    "import pandas as pd\n",
    "import numpy as np\n",
    "from langchain.embeddings import HuggingFaceEmbeddings\n",
    "import json\n",
    "import time\n",
    "import scann"
   ]
  },
  {
   "cell_type": "code",
   "execution_count": 4,
   "id": "af9a1a94-d579-4883-8ff6-4038bc0ed024",
   "metadata": {},
   "outputs": [],
   "source": [
    "# Import Vertex AI SDK\n",
    "PROJECT_ID = !gcloud config get project\n",
    "PROJECT_ID = PROJECT_ID.n\n",
    "LOCATION = \"europe-west2\" \n",
    "\n",
    "import vertexai\n",
    "\n",
    "vertexai.init(project=PROJECT_ID, location=LOCATION)"
   ]
  },
  {
   "cell_type": "code",
   "execution_count": 5,
   "id": "3883ce8a-3efc-45cb-93eb-4e39304435f9",
   "metadata": {},
   "outputs": [
    {
     "data": {
      "text/html": [
       "<div>\n",
       "<style scoped>\n",
       "    .dataframe tbody tr th:only-of-type {\n",
       "        vertical-align: middle;\n",
       "    }\n",
       "\n",
       "    .dataframe tbody tr th {\n",
       "        vertical-align: top;\n",
       "    }\n",
       "\n",
       "    .dataframe thead th {\n",
       "        text-align: right;\n",
       "    }\n",
       "</style>\n",
       "<table border=\"1\" class=\"dataframe\">\n",
       "  <thead>\n",
       "    <tr style=\"text-align: right;\">\n",
       "      <th></th>\n",
       "      <th>file_name</th>\n",
       "      <th>text</th>\n",
       "    </tr>\n",
       "  </thead>\n",
       "  <tbody>\n",
       "    <tr>\n",
       "      <th>0</th>\n",
       "      <td>find-iban-bic.txt</td>\n",
       "      <td>Find your IBAN and BICIBAN is your Internation...</td>\n",
       "    </tr>\n",
       "    <tr>\n",
       "      <th>1</th>\n",
       "      <td>cbo-system-compatibility.txt</td>\n",
       "      <td>Software you should use with Commercial Bankin...</td>\n",
       "    </tr>\n",
       "    <tr>\n",
       "      <th>2</th>\n",
       "      <td>transaction-not-recognised.txt</td>\n",
       "      <td>Find out more about a transactionIf you don’t ...</td>\n",
       "    </tr>\n",
       "    <tr>\n",
       "      <th>3</th>\n",
       "      <td>ob-card-reader-not-working.txt</td>\n",
       "      <td>My Online for Business card reader isn’t worki...</td>\n",
       "    </tr>\n",
       "    <tr>\n",
       "      <th>4</th>\n",
       "      <td>cbo-account-suspended.txt</td>\n",
       "      <td>My Commercial Banking Online access has been s...</td>\n",
       "    </tr>\n",
       "    <tr>\n",
       "      <th>...</th>\n",
       "      <td>...</td>\n",
       "      <td>...</td>\n",
       "    </tr>\n",
       "    <tr>\n",
       "      <th>63</th>\n",
       "      <td>order-card-reader-for-ob.txt</td>\n",
       "      <td>Order a card reader for Online for BusinessIn ...</td>\n",
       "    </tr>\n",
       "    <tr>\n",
       "      <th>64</th>\n",
       "      <td>make-a-payment.txt</td>\n",
       "      <td>Make a paymentPay a person or business in the ...</td>\n",
       "    </tr>\n",
       "    <tr>\n",
       "      <th>65</th>\n",
       "      <td>log-on-to-o4b.txt</td>\n",
       "      <td>Log on to Online for BusinessLog on securely u...</td>\n",
       "    </tr>\n",
       "    <tr>\n",
       "      <th>66</th>\n",
       "      <td>confirmation-of-payee.txt</td>\n",
       "      <td>Make payments with confidenceConfirmation of P...</td>\n",
       "    </tr>\n",
       "    <tr>\n",
       "      <th>67</th>\n",
       "      <td>claim-a-dd-refund.txt</td>\n",
       "      <td>Claim a Direct Debit refundYou might be able t...</td>\n",
       "    </tr>\n",
       "  </tbody>\n",
       "</table>\n",
       "<p>68 rows × 2 columns</p>\n",
       "</div>"
      ],
      "text/plain": [
       "                         file_name  \\\n",
       "0                find-iban-bic.txt   \n",
       "1     cbo-system-compatibility.txt   \n",
       "2   transaction-not-recognised.txt   \n",
       "3   ob-card-reader-not-working.txt   \n",
       "4        cbo-account-suspended.txt   \n",
       "..                             ...   \n",
       "63    order-card-reader-for-ob.txt   \n",
       "64              make-a-payment.txt   \n",
       "65               log-on-to-o4b.txt   \n",
       "66       confirmation-of-payee.txt   \n",
       "67           claim-a-dd-refund.txt   \n",
       "\n",
       "                                                 text  \n",
       "0   Find your IBAN and BICIBAN is your Internation...  \n",
       "1   Software you should use with Commercial Bankin...  \n",
       "2   Find out more about a transactionIf you don’t ...  \n",
       "3   My Online for Business card reader isn’t worki...  \n",
       "4   My Commercial Banking Online access has been s...  \n",
       "..                                                ...  \n",
       "63  Order a card reader for Online for BusinessIn ...  \n",
       "64  Make a paymentPay a person or business in the ...  \n",
       "65  Log on to Online for BusinessLog on securely u...  \n",
       "66  Make payments with confidenceConfirmation of P...  \n",
       "67  Claim a Direct Debit refundYou might be able t...  \n",
       "\n",
       "[68 rows x 2 columns]"
      ]
     },
     "execution_count": 5,
     "metadata": {},
     "output_type": "execute_result"
    }
   ],
   "source": [
    "df = pd.read_csv('text_data.csv')\n",
    "df"
   ]
  },
  {
   "cell_type": "code",
   "execution_count": 8,
   "id": "647fc125-53a2-4c05-96b8-7be068d19f5a",
   "metadata": {
    "tags": []
   },
   "outputs": [],
   "source": [
    "from vertexai.preview.language_models import TextEmbeddingModel\n",
    "\n",
    "model = TextEmbeddingModel.from_pretrained(\"textembedding-gecko@001\")\n",
    "\n",
    "def get_embedding(text):\n",
    "    get_embedding.counter += 1\n",
    "    try:\n",
    "        if get_embedding.counter % 100 == 0:\n",
    "            time.sleep(3)\n",
    "        return model.get_embeddings([text])[0].values #Send request to embedding model\n",
    "    except:\n",
    "        return []\n",
    "\n",
    "\n",
    "get_embedding.counter = 0\n",
    "\n",
    "# This may take several minutes to complete.\n",
    "df[\"embedding\"] = df[\"text\"].apply(lambda x: get_embedding(x))\n",
    "df.to_csv('text_data_g_embedding.csv', index=False)"
   ]
  },
  {
   "cell_type": "code",
   "execution_count": 10,
   "id": "aae9c676-d18a-4611-a3d6-72ff4d62aa56",
   "metadata": {},
   "outputs": [],
   "source": [
    "# Import and apply embeddings from HuggingFace\n",
    "from langchain.embeddings import HuggingFaceEmbeddings\n",
    "embeddings = HuggingFaceEmbeddings()\n",
    "\n",
    "df['embedding']=df.apply(lambda row: embeddings.embed_query(row['text']),axis=1)\n",
    "df.to_csv('text_data_h_embedding.csv', index=False)"
   ]
  },
  {
   "cell_type": "code",
   "execution_count": null,
   "id": "39b80c8e-7735-43a9-9acf-134f07057450",
   "metadata": {},
   "outputs": [],
   "source": []
  }
 ],
 "metadata": {
  "environment": {
   "kernel": "python3",
   "name": "tf2-cpu.2-11.m112",
   "type": "gcloud",
   "uri": "gcr.io/deeplearning-platform-release/tf2-cpu.2-11:m112"
  },
  "kernelspec": {
   "display_name": "Python 3",
   "language": "python",
   "name": "python3"
  },
  "language_info": {
   "codemirror_mode": {
    "name": "ipython",
    "version": 3
   },
   "file_extension": ".py",
   "mimetype": "text/x-python",
   "name": "python",
   "nbconvert_exporter": "python",
   "pygments_lexer": "ipython3",
   "version": "3.7.12"
  }
 },
 "nbformat": 4,
 "nbformat_minor": 5
}
