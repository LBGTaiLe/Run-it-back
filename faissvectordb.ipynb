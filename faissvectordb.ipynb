{
 "cells": [
  {
   "cell_type": "code",
   "execution_count": 1,
   "id": "d4096ff5-3770-4062-b716-26ec9345b148",
   "metadata": {},
   "outputs": [],
   "source": [
    "# !pip install faiss-cpu"
   ]
  },
  {
   "cell_type": "code",
   "execution_count": 2,
   "id": "d094683e-2188-4855-9837-dbadb0b2d0d2",
   "metadata": {},
   "outputs": [],
   "source": [
    "import pandas as pd\n",
    "import numpy as np\n",
    "import faiss"
   ]
  },
  {
   "cell_type": "code",
   "execution_count": 3,
   "id": "0ae0f254-e36c-4da2-8de3-f841947facac",
   "metadata": {},
   "outputs": [],
   "source": [
    "df = pd.read_csv('text_data_h_embedding.csv')"
   ]
  },
  {
   "cell_type": "code",
   "execution_count": 7,
   "id": "4a5c9fc4-dc13-4cd1-9729-e18231212bfd",
   "metadata": {},
   "outputs": [
    {
     "name": "stderr",
     "output_type": "stream",
     "text": [
      "/opt/conda/lib/python3.7/site-packages/ipykernel_launcher.py:2: DeprecationWarning: string or file could not be read to its end due to unmatched data; this will raise a ValueError in the future.\n",
      "  \n"
     ]
    }
   ],
   "source": [
    "# convert the string into arrays\n",
    "df['embedding'] = df['embedding'].apply(lambda x: np.fromstring(x[1:-1], sep=(',')))"
   ]
  },
  {
   "cell_type": "code",
   "execution_count": 9,
   "id": "a7458db7-0bb7-4df5-afd9-45c2b5aa2c34",
   "metadata": {},
   "outputs": [],
   "source": [
    "# format embeddings for FAISS\n",
    "embeddings = np.array(df['embedding'].tolist()).astype('float32')\n",
    "\n",
    "# Create FIASS index\n",
    "dimension = embeddings.shape[1] # dimension of embeddings\n",
    "index = faiss.IndexFlatL2(dimension) # using L2 distance for similarity"
   ]
  },
  {
   "cell_type": "code",
   "execution_count": 10,
   "id": "7b87abcd-19b4-43db-80ca-714595f6cd6e",
   "metadata": {},
   "outputs": [],
   "source": [
    "# add embeddings to the index\n",
    "index.add(embeddings)"
   ]
  },
  {
   "cell_type": "code",
   "execution_count": 11,
   "id": "d0b24c53-c110-4052-a0d5-1d6e91eaf375",
   "metadata": {},
   "outputs": [
    {
     "name": "stdout",
     "output_type": "stream",
     "text": [
      "distances: [[0.0000000e+00 1.4403125e-06 4.3499685e-06 6.0727011e-06 7.0809160e-06]]\n",
      "indices: [[ 0  9 63 47 41]]\n"
     ]
    }
   ],
   "source": [
    "# perform a search, for example 5 nearest neighbors\n",
    "D, I = index.search(embeddings[0:1], 5)\n",
    "print('distances:', D)\n",
    "print('indices:', I)"
   ]
  },
  {
   "cell_type": "code",
   "execution_count": null,
   "id": "49d38c32-d99e-4f7f-968a-06687bfe8c89",
   "metadata": {},
   "outputs": [],
   "source": []
  }
 ],
 "metadata": {
  "environment": {
   "kernel": "python3",
   "name": "tf2-cpu.2-11.m112",
   "type": "gcloud",
   "uri": "gcr.io/deeplearning-platform-release/tf2-cpu.2-11:m112"
  },
  "kernelspec": {
   "display_name": "Python 3",
   "language": "python",
   "name": "python3"
  },
  "language_info": {
   "codemirror_mode": {
    "name": "ipython",
    "version": 3
   },
   "file_extension": ".py",
   "mimetype": "text/x-python",
   "name": "python",
   "nbconvert_exporter": "python",
   "pygments_lexer": "ipython3",
   "version": "3.7.12"
  }
 },
 "nbformat": 4,
 "nbformat_minor": 5
}
